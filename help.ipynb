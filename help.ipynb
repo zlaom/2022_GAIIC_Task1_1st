{
 "cells": [
  {
   "cell_type": "code",
   "execution_count": 8,
   "metadata": {},
   "outputs": [],
   "source": [
    "from tqdm import tqdm \n",
    "import json\n",
    "import itertools\n",
    "import random \n",
    "\n",
    "# 加载新的属性字典\n",
    "attr_file = 'data/equal_processed_data/attr_to_attrvals.json'\n",
    "with open(attr_file, 'r') as f:\n",
    "    attr_dict = json.load(f)"
   ]
  },
  {
   "cell_type": "code",
   "execution_count": 3,
   "metadata": {},
   "outputs": [
    {
     "name": "stderr",
     "output_type": "stream",
     "text": [
      "10000it [00:00, 64759.39it/s]\n"
     ]
    }
   ],
   "source": [
    "file = 'data/equal_processed_data/nofeat/test10000.txt'\n",
    "save_file = 'data/equal_processed_data/nofeat/test10000_analysis.txt'\n",
    "\n",
    "rets = []\n",
    "query_list = list(attr_dict.keys())\n",
    "with open(file, 'r') as f:\n",
    "    for i, data in enumerate(tqdm(f)):\n",
    "        data = json.loads(data)\n",
    "        title = data['title']\n",
    "        key_attr = {}\n",
    "        \n",
    "        # 属性提取\n",
    "        for query in query_list:\n",
    "            attr_list = attr_dict[query]\n",
    "            for attr in attr_list:\n",
    "                if attr in title:\n",
    "                    key_attr[query] = attr\n",
    "                        \n",
    "        data['new_key_attr'] = key_attr\n",
    "        rets.append(json.dumps(data, ensure_ascii=False)+'\\n')\n",
    "        \n",
    "with open(save_file, 'w') as f:\n",
    "    f.writelines(rets)"
   ]
  },
  {
   "cell_type": "code",
   "execution_count": 20,
   "metadata": {},
   "outputs": [
    {
     "name": "stderr",
     "output_type": "stream",
     "text": [
      "10000it [00:00, 273527.89it/s]\n"
     ]
    }
   ],
   "source": [
    "file = 'pred_title_attr_set1_B.txt'\n",
    "\n",
    "preds = []\n",
    "with open(file, 'r') as f:\n",
    "    for i, data in enumerate(tqdm(f)):\n",
    "        data = json.loads(data)\n",
    "        preds.append(data)\n",
    "            "
   ]
  },
  {
   "cell_type": "code",
   "execution_count": 72,
   "metadata": {},
   "outputs": [
    {
     "data": {
      "text/plain": [
       "0.31328392246294184"
      ]
     },
     "execution_count": 72,
     "metadata": {},
     "output_type": "execute_result"
    }
   ],
   "source": [
    "1099 / (2409 + 1099)"
   ]
  },
  {
   "cell_type": "code",
   "execution_count": 70,
   "metadata": {},
   "outputs": [
    {
     "name": "stderr",
     "output_type": "stream",
     "text": [
      "10000it [00:00, 166552.99it/s]"
     ]
    },
    {
     "name": "stdout",
     "output_type": "stream",
     "text": [
      "2409\n",
      "0\n",
      "0\n"
     ]
    },
    {
     "name": "stderr",
     "output_type": "stream",
     "text": [
      "\n"
     ]
    }
   ],
   "source": [
    "file = 'data/equal_processed_data/nofeat/test10000_analysis.txt'\n",
    "\n",
    "attr_count = 0\n",
    "count = 0\n",
    "pos_count = 0\n",
    "query_list = list(attr_dict.keys())\n",
    "with open(file, 'r') as f:\n",
    "    for i, data in enumerate(tqdm(f)):\n",
    "        data = json.loads(data)\n",
    "        img_name = data['img_name']\n",
    "        title = data['title']\n",
    "        key_attr = data['key_attr']\n",
    "        new_key_attr = data['new_key_attr']\n",
    "        \n",
    "        # if '类别' in key_attr.keys():\n",
    "        #     print(img_name)\n",
    "        #     print(preds[i]['match'])\n",
    "        #     print(key_attr)\n",
    "        #     print(new_key_attr)\n",
    "        #     print()\n",
    "        #     count += 1\n",
    "        #     if preds[i]['match']['图文'] == 1:\n",
    "        #         pos_count += 1\n",
    "        \n",
    "        # if any(q in key_attr.keys() for q in ['领型', '袖长', '衣长', '版型', '裙长', '穿着方式']):\n",
    "        #     print(img_name)\n",
    "        #     print(preds[i]['match'])\n",
    "        #     print(key_attr)\n",
    "        #     print(new_key_attr)\n",
    "        #     print()\n",
    "        #     count += 1\n",
    "        #     if preds[i]['match']['图文'] == 1:\n",
    "        #         pos_count += 1\n",
    "        \n",
    "        # if any(q in key_attr.keys() for q in ['裤型', '裤长', '裤门襟']):\n",
    "        #     print(img_name)\n",
    "        #     print(preds[i]['match'])\n",
    "        #     print(key_attr)\n",
    "        #     # print(new_key_attr)\n",
    "        #     print()\n",
    "        #     count += 1\n",
    "        #     if preds[i]['match']['图文'] == 1:\n",
    "        #         pos_count += 1\n",
    "        \n",
    "        # if any(q in key_attr.keys() for q in ['闭合方式', '鞋帮高度']):\n",
    "        #     print(img_name)\n",
    "        #     print(preds[i]['match'])\n",
    "        #     print(key_attr)\n",
    "        #     # print(new_key_attr)\n",
    "        #     print()\n",
    "        #     count += 1\n",
    "        #     if preds[i]['match']['图文'] == 1:\n",
    "        #         pos_count += 1\n",
    "                \n",
    "        # if key_attr == new_key_attr:\n",
    "        #     if len(key_attr) == 1:\n",
    "        #         count += 1\n",
    "        #         if preds[i]['match']['图文'] == 1:\n",
    "        #             pos_count += 1\n",
    "        #         print(img_name)\n",
    "        #         print(preds[i]['match'])\n",
    "        #         print(key_attr)\n",
    "        #         print(new_key_attr)\n",
    "        #         print()\n",
    "        \n",
    "        if '类别' not in key_attr.keys(): # 去除包\n",
    "            if preds[i]['match']['图文'] == 0: # 负例\n",
    "                if key_attr == new_key_attr: # 去除隐藏属性的样本\n",
    "                    if len(key_attr) >= 2: # 属性不少于两个\n",
    "                        flag_1 = 0\n",
    "                        flag_0 = 0\n",
    "                        for key, value in preds[i]['match'].items():\n",
    "                            if key != '图文':\n",
    "                                if value == 1:\n",
    "                                    flag_1 = 1\n",
    "                                else:\n",
    "                                    flag_0 = 1\n",
    "                        if flag_0 and flag_1:\n",
    "                            count += 1\n",
    "                    \n",
    "                    \n",
    "            \n",
    "            \n",
    "        # if key_attr != new_key_attr:\n",
    "        #     # count += 1\n",
    "        #     # if preds[i]['match']['图文'] == 1:\n",
    "        #     #     pos_count += 1\n",
    "        #     for key, value in preds[i]['match'].items():\n",
    "        #         if key != '图文':\n",
    "        #             attr_count += 1\n",
    "        #             if value == 1:\n",
    "        #                 pos_count += 1\n",
    "        #     print(img_name)\n",
    "        #     print(preds[i]['match'])\n",
    "        #     print(title)\n",
    "        #     print(key_attr)\n",
    "        #     print(new_key_attr)\n",
    "        #     print()\n",
    "        \n",
    "        # if preds[i]['match']['图文'] == 0:\n",
    "        #     if '类别' not in key_attr.keys():\n",
    "        #         if key_attr == new_key_attr:\n",
    "        #             count += 1\n",
    "        #             for key, value in preds[i]['match'].items():\n",
    "        #                 if key != '图文':\n",
    "        #                     attr_count += 1\n",
    "        #                     if value == 1:\n",
    "        #                         pos_count += 1\n",
    "                \n",
    "        \n",
    "        # if preds[i]['match']['图文'] == 1:\n",
    "        #     count += 1\n",
    "            \n",
    "        if i > 10000:\n",
    "            break\n",
    "print(count)\n",
    "print(pos_count)\n",
    "print(attr_count)"
   ]
  },
  {
   "cell_type": "code",
   "execution_count": 66,
   "metadata": {},
   "outputs": [
    {
     "data": {
      "text/plain": [
       "6776"
      ]
     },
     "execution_count": 66,
     "metadata": {},
     "output_type": "execute_result"
    }
   ],
   "source": [
    "10000 - 363 - (451 + 2000 + 410)"
   ]
  },
  {
   "cell_type": "code",
   "execution_count": 69,
   "metadata": {},
   "outputs": [
    {
     "data": {
      "text/plain": [
       "0.14757969303423848"
      ]
     },
     "execution_count": 69,
     "metadata": {},
     "output_type": "execute_result"
    }
   ],
   "source": [
    "1000/ 6776"
   ]
  },
  {
   "cell_type": "code",
   "execution_count": 18,
   "metadata": {},
   "outputs": [
    {
     "name": "stderr",
     "output_type": "stream",
     "text": [
      "10000it [00:00, 326661.73it/s]"
     ]
    },
    {
     "name": "stdout",
     "output_type": "stream",
     "text": [
      "3100\n"
     ]
    },
    {
     "name": "stderr",
     "output_type": "stream",
     "text": [
      "\n"
     ]
    }
   ],
   "source": [
    "file = 'pred_title_attr_set1_B.txt'\n",
    "\n",
    "count = 0\n",
    "with open(file, 'r') as f:\n",
    "    for i, data in enumerate(tqdm(f)):\n",
    "        data = json.loads(data)\n",
    "        if data['match']['图文'] == 1:\n",
    "            count += 1\n",
    "            \n",
    "print(count)"
   ]
  },
  {
   "cell_type": "code",
   "execution_count": 17,
   "metadata": {},
   "outputs": [
    {
     "data": {
      "text/plain": [
       "0.306"
      ]
     },
     "execution_count": 17,
     "metadata": {},
     "output_type": "execute_result"
    }
   ],
   "source": [
    "1224 / 4000"
   ]
  },
  {
   "cell_type": "code",
   "execution_count": 9,
   "metadata": {},
   "outputs": [
    {
     "name": "stderr",
     "output_type": "stream",
     "text": [
      "5000it [00:00, 154794.21it/s]\n"
     ]
    }
   ],
   "source": [
    "file = 'data/equal_processed_data/nofeat/fine5000.txt'\n",
    "save_file = 'data/equal_processed_data/nofeat/mytest5000.txt'\n",
    "\n",
    "rets = []\n",
    "with open(file, 'r') as f:\n",
    "    for i, data in enumerate(tqdm(f)):\n",
    "        data = json.loads(data)\n",
    "        img_name = data['img_name']\n",
    "        title = data['title']\n",
    "        key_attr = data['key_attr']\n",
    "        match = data['match']\n",
    "        \n",
    "        if '类别' in key_attr.keys():\n",
    "            if random.random() < 1/3:\n",
    "                match['类别'] = 0\n",
    "                match['图文'] = 0\n",
    "                \n",
    "        else:\n",
    "            flag = 1\n",
    "            for key, value in key_attr.items():\n",
    "                if random.random() < 0.62:\n",
    "                    match[key] = 0\n",
    "                    flag = 0\n",
    "                if flag == 0:\n",
    "                    match['图文'] = 0\n",
    "                \n",
    "        rets.append(data)"
   ]
  },
  {
   "cell_type": "code",
   "execution_count": 13,
   "metadata": {},
   "outputs": [
    {
     "name": "stdout",
     "output_type": "stream",
     "text": [
      "893\n"
     ]
    }
   ],
   "source": [
    "count = 0\n",
    "pos_count = 0\n",
    "\n",
    "\n",
    "for data in rets:\n",
    "    img_name = data['img_name']\n",
    "    title = data['title']\n",
    "    key_attr = data['key_attr']\n",
    "    match = data['match']\n",
    "    if match['图文'] == 1:\n",
    "        pos_count += 1\n",
    "        \n",
    "print(pos_count)"
   ]
  },
  {
   "cell_type": "code",
   "execution_count": 94,
   "metadata": {},
   "outputs": [
    {
     "name": "stderr",
     "output_type": "stream",
     "text": [
      "5000it [00:00, 54004.52it/s]"
     ]
    },
    {
     "name": "stdout",
     "output_type": "stream",
     "text": [
      "5000\n"
     ]
    },
    {
     "name": "stderr",
     "output_type": "stream",
     "text": [
      "\n"
     ]
    }
   ],
   "source": [
    "import random \n",
    "random.seed(0)\n",
    "\n",
    "attr_dict_file = 'data/equal_processed_data/attr_to_attrvals.json'\n",
    "with open(attr_dict_file, 'r') as f:\n",
    "    attr_dict = json.load(f)\n",
    "\n",
    "def get_negative_dict(attr_dict):\n",
    "        negative_dict = {}\n",
    "        for query, attr_list in attr_dict.items():\n",
    "            negative_dict[query] = {}\n",
    "            for attr in attr_list:\n",
    "                l = attr_list.copy()\n",
    "                l.remove(attr)\n",
    "                negative_dict[query][attr] = l\n",
    "        return negative_dict\n",
    "negative_dict = get_negative_dict(attr_dict)\n",
    "\n",
    "\n",
    "file = 'data/equal_processed_data/nofeat/fine5000.txt'\n",
    "save_file = 'data/equal_processed_data/nofeat/mytest5000_nohide.txt'\n",
    "\n",
    "rets = []\n",
    "with open(file, 'r') as f:\n",
    "    for i, data in enumerate(tqdm(f)):\n",
    "        data = json.loads(data)\n",
    "        img_name = data['img_name']\n",
    "        title = data['title']\n",
    "        key_attr = data['key_attr']\n",
    "        match = data['match']\n",
    "        \n",
    "        # 包 永远只有一个属性，1/3的概率为负\n",
    "        if '类别' in key_attr.keys():\n",
    "            if random.random() < 1/3:\n",
    "                query = '类别'\n",
    "                attr = key_attr[query]\n",
    "                new_attr = random.sample(negative_dict[query][attr], 1)[0]\n",
    "                key_attr[query] = new_attr\n",
    "                title = title.replace(attr, new_attr)\n",
    "                match['类别'] = 0\n",
    "                match['图文'] = 0\n",
    "        # 其他样本，29.2%的概率为正样本\n",
    "        else:\n",
    "            if random.random() < (1 - 0.292): # 以此概率为负\n",
    "                match['图文'] = 0\n",
    "                # 先随机选取一个属性为负\n",
    "                query = random.sample(list(key_attr.keys()), 1)[0]\n",
    "                attr = key_attr[query]\n",
    "                new_attr = random.sample(negative_dict[query][attr], 1)[0]\n",
    "                key_attr[query] = new_attr\n",
    "                title = title.replace(attr, new_attr)\n",
    "                match[query] = 0\n",
    "                # 其余属性以一定概率变负\n",
    "                for query, attr in key_attr.items():\n",
    "                    if match[query] != 0:\n",
    "                        if random.random() < 0.434:\n",
    "                            new_attr = random.sample(negative_dict[query][attr], 1)[0]\n",
    "                            key_attr[query] = new_attr\n",
    "                            title = title.replace(attr, new_attr)\n",
    "                            match[query] = 0\n",
    "                # 隐藏属性\n",
    "                # if len(key_attr) >= 2: # 属性不少于两个\n",
    "                #     flag_0 = 0\n",
    "                #     flag_1 = 0\n",
    "                #     for query, value in match.items(): # 有正有负\n",
    "                #         if query != '图文':\n",
    "                #             if value == 1:\n",
    "                #                 flag_1 = 1\n",
    "                #             else:\n",
    "                #                 flag_0 = 1\n",
    "                #     if flag_0 and flag_1:\n",
    "                #         if random.random() < 0.3: # 一定概率进行隐藏\n",
    "                #             match_copy = match.copy()\n",
    "                #             for query, value in match_copy.items():\n",
    "                #                 if query != '图文':\n",
    "                #                     if value == 0:\n",
    "                #                         del match[query]\n",
    "                #                         del key_attr[query]\n",
    "            \n",
    "        data['title'] = title \n",
    "        data['key_attr'] = key_attr \n",
    "        data['match'] = match \n",
    "        rets.append(json.dumps(data, ensure_ascii=False)+'\\n')\n",
    "\n",
    "print(len(rets))\n",
    "with open(save_file, 'w') as f:\n",
    "    f.writelines(rets)"
   ]
  },
  {
   "cell_type": "code",
   "execution_count": 84,
   "metadata": {},
   "outputs": [
    {
     "name": "stderr",
     "output_type": "stream",
     "text": [
      "5000it [00:00, 181348.64it/s]"
     ]
    },
    {
     "name": "stdout",
     "output_type": "stream",
     "text": [
      "1919\n",
      "0\n",
      "0\n"
     ]
    },
    {
     "name": "stderr",
     "output_type": "stream",
     "text": [
      "\n"
     ]
    }
   ],
   "source": [
    "file = 'data/equal_processed_data/nofeat/mytest5000_nohide.txt'\n",
    "\n",
    "attr_count = 0\n",
    "count = 0\n",
    "pos_count = 0\n",
    "query_list = list(attr_dict.keys())\n",
    "with open(file, 'r') as f:\n",
    "    for i, data in enumerate(tqdm(f)):\n",
    "        data = json.loads(data)\n",
    "        img_name = data['img_name']\n",
    "        title = data['title']\n",
    "        key_attr = data['key_attr']\n",
    "        match = data['match']\n",
    "        \n",
    "        # if '类别' in key_attr.keys():\n",
    "        #     print(img_name)\n",
    "        #     print(preds[i]['match'])\n",
    "        #     print(key_attr)\n",
    "        #     print(new_key_attr)\n",
    "        #     print()\n",
    "        #     count += 1\n",
    "        #     if preds[i]['match']['图文'] == 1:\n",
    "        #         pos_count += 1\n",
    "        \n",
    "        # if any(q in key_attr.keys() for q in ['领型', '袖长', '衣长', '版型', '裙长', '穿着方式']):\n",
    "        #     print(img_name)\n",
    "        #     print(preds[i]['match'])\n",
    "        #     print(key_attr)\n",
    "        #     print(new_key_attr)\n",
    "        #     print()\n",
    "        #     count += 1\n",
    "        #     if preds[i]['match']['图文'] == 1:\n",
    "        #         pos_count += 1\n",
    "        \n",
    "        # if any(q in key_attr.keys() for q in ['裤型', '裤长', '裤门襟']):\n",
    "        #     print(img_name)\n",
    "        #     print(preds[i]['match'])\n",
    "        #     print(key_attr)\n",
    "        #     # print(new_key_attr)\n",
    "        #     print()\n",
    "        #     count += 1\n",
    "        #     if preds[i]['match']['图文'] == 1:\n",
    "        #         pos_count += 1\n",
    "        \n",
    "        # if any(q in key_attr.keys() for q in ['闭合方式', '鞋帮高度']):\n",
    "        #     print(img_name)\n",
    "        #     print(preds[i]['match'])\n",
    "        #     print(key_attr)\n",
    "        #     # print(new_key_attr)\n",
    "        #     print()\n",
    "        #     count += 1\n",
    "        #     if preds[i]['match']['图文'] == 1:\n",
    "        #         pos_count += 1\n",
    "                \n",
    "        # if key_attr == new_key_attr:\n",
    "        #     if len(key_attr) == 1:\n",
    "        #         count += 1\n",
    "        #         if preds[i]['match']['图文'] == 1:\n",
    "        #             pos_count += 1\n",
    "        #         print(img_name)\n",
    "        #         print(preds[i]['match'])\n",
    "        #         print(key_attr)\n",
    "        #         print(new_key_attr)\n",
    "        #         print()\n",
    "        \n",
    "        if '类别' not in key_attr.keys(): # 去除包\n",
    "            if match['图文'] == 0: # 负例\n",
    "                if len(key_attr) >= 2: # 属性不少于两个\n",
    "                    flag_1 = 0\n",
    "                    flag_0 = 0\n",
    "                    for key, value in match.items():\n",
    "                        if key != '图文':\n",
    "                            if value == 1:\n",
    "                                flag_1 = 1\n",
    "                            else:\n",
    "                                flag_0 = 1\n",
    "                    if flag_0 and flag_1:\n",
    "                        count += 1\n",
    "                    \n",
    "                    \n",
    "            \n",
    "            \n",
    "        # if key_attr != new_key_attr:\n",
    "        #     # count += 1\n",
    "        #     # if preds[i]['match']['图文'] == 1:\n",
    "        #     #     pos_count += 1\n",
    "        #     for key, value in preds[i]['match'].items():\n",
    "        #         if key != '图文':\n",
    "        #             attr_count += 1\n",
    "        #             if value == 1:\n",
    "        #                 pos_count += 1\n",
    "        #     print(img_name)\n",
    "        #     print(preds[i]['match'])\n",
    "        #     print(title)\n",
    "        #     print(key_attr)\n",
    "        #     print(new_key_attr)\n",
    "        #     print()\n",
    "        \n",
    "        # if preds[i]['match']['图文'] == 0:\n",
    "        #     if '类别' not in key_attr.keys():\n",
    "        #         if key_attr == new_key_attr:\n",
    "        #             count += 1\n",
    "        #             for key, value in preds[i]['match'].items():\n",
    "        #                 if key != '图文':\n",
    "        #                     attr_count += 1\n",
    "        #                     if value == 1:\n",
    "        #                         pos_count += 1\n",
    "                \n",
    "        \n",
    "        # if preds[i]['match']['图文'] == 1:\n",
    "        #     count += 1\n",
    "            \n",
    "        if i > 10000:\n",
    "            break\n",
    "print(count)\n",
    "print(pos_count)\n",
    "print(attr_count)"
   ]
  },
  {
   "cell_type": "code",
   "execution_count": 86,
   "metadata": {},
   "outputs": [
    {
     "data": {
      "text/plain": [
       "1113.02"
      ]
     },
     "execution_count": 86,
     "metadata": {},
     "output_type": "execute_result"
    }
   ],
   "source": [
    "1919 * 2 * 0.29"
   ]
  }
 ],
 "metadata": {
  "interpreter": {
   "hash": "ab7a9148291449fc4391f360f086843f6cf18b6c2df8af6702dacf91b204e632"
  },
  "kernelspec": {
   "display_name": "Python 3.8.8 ('base')",
   "language": "python",
   "name": "python3"
  },
  "language_info": {
   "codemirror_mode": {
    "name": "ipython",
    "version": 3
   },
   "file_extension": ".py",
   "mimetype": "text/x-python",
   "name": "python",
   "nbconvert_exporter": "python",
   "pygments_lexer": "ipython3",
   "version": "3.9.7"
  },
  "orig_nbformat": 4
 },
 "nbformat": 4,
 "nbformat_minor": 2
}
