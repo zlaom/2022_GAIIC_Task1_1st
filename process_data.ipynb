{
 "cells": [
  {
   "cell_type": "code",
   "execution_count": 6,
   "metadata": {},
   "outputs": [
    {
     "name": "stderr",
     "output_type": "stream",
     "text": [
      "89588it [01:46, 841.94it/s] \n"
     ]
    },
    {
     "name": "stdout",
     "output_type": "stream",
     "text": [
      "88561\n"
     ]
    }
   ],
   "source": [
    "import json\n",
    "from tqdm import tqdm\n",
    "\n",
    "i = 0\n",
    "data_path_1 = 'data/equal_processed_data/coarse89588.txt'\n",
    "coarse_list = []\n",
    "with open(data_path_1, 'r') as f:\n",
    "    for data in tqdm(f):\n",
    "        data = json.loads(data)\n",
    "        if len(data['match'].keys()) > 1:\n",
    "            coarse_list.append(json.dumps(data, ensure_ascii=False)+'\\n')\n",
    "\n",
    "print(len(coarse_list))\n",
    "with open('data/equal_processed_data/coarse_pretrain.txt', 'w') as f:\n",
    "    f.writelines(coarse_list)\n",
    "            \n",
    "        \n"
   ]
  },
  {
   "cell_type": "code",
   "execution_count": 7,
   "metadata": {},
   "outputs": [
    {
     "name": "stderr",
     "output_type": "stream",
     "text": [
      "50000it [01:00, 822.46it/s] \n"
     ]
    }
   ],
   "source": [
    "\n",
    "fine_file = 'data/equal_processed_data/fine50000.txt'\n",
    "rets_pretrain = []\n",
    "rets_train = []\n",
    "rets_val = []\n",
    "with open(fine_file, 'r') as f:\n",
    "    for i, line in enumerate(tqdm(f)):\n",
    "        item = json.loads(line)\n",
    "        # del item['feature']\n",
    "        if len(rets_pretrain) < 40000:\n",
    "            rets_pretrain.append(json.dumps(item, ensure_ascii=False)+'\\n')\n",
    "        elif len(rets_train) < 9000:\n",
    "            rets_train.append(json.dumps(item, ensure_ascii=False)+'\\n')\n",
    "        elif len(rets_val) < 700:\n",
    "            rets_val.append(json.dumps(item, ensure_ascii=False)+'\\n')\n",
    "\n",
    "with open('data/equal_processed_data/fine_pretrain.txt', 'w') as f:\n",
    "    f.writelines(rets_pretrain)\n",
    "with open('data/equal_processed_data/fine_train.txt', 'w') as f:\n",
    "    f.writelines(rets_train)\n",
    "with open('data/equal_processed_data/fine_val.txt', 'w') as f:\n",
    "    f.writelines(rets_val)"
   ]
  },
  {
   "cell_type": "code",
   "execution_count": 8,
   "metadata": {},
   "outputs": [
    {
     "name": "stderr",
     "output_type": "stream",
     "text": [
      "10412it [00:12, 830.24it/s]\n"
     ]
    }
   ],
   "source": [
    "\n",
    "file = 'data/equal_processed_data/coarse10412.txt'\n",
    "rets_train = []\n",
    "rets_val = []\n",
    "with open(file, 'r') as f:\n",
    "    for i, line in enumerate(tqdm(f)):\n",
    "        item = json.loads(line)\n",
    "        # del item['feature']\n",
    "        if len(rets_train) < 9000:\n",
    "            rets_train.append(json.dumps(item, ensure_ascii=False)+'\\n')\n",
    "        elif len(rets_val) < 1412:\n",
    "            rets_val.append(json.dumps(item, ensure_ascii=False)+'\\n')\n",
    "\n",
    "with open('data/equal_processed_data/coarse9000.txt', 'w') as f:\n",
    "    f.writelines(rets_train)\n",
    "with open('data/equal_processed_data/coarse1412.txt', 'w') as f:\n",
    "    f.writelines(rets_val)"
   ]
  },
  {
   "cell_type": "code",
   "execution_count": 1,
   "metadata": {},
   "outputs": [
    {
     "name": "stderr",
     "output_type": "stream",
     "text": [
      "8312it [00:07, 1129.61it/s]"
     ]
    },
    {
     "name": "stdout",
     "output_type": "stream",
     "text": [
      "max length is 8312\n"
     ]
    },
    {
     "name": "stderr",
     "output_type": "stream",
     "text": [
      "\n"
     ]
    }
   ],
   "source": [
    "import json\n",
    "from tqdm import tqdm\n",
    "\n",
    "l = 0\n",
    "data_path_1 = 'data/equal_split_word/title/coarse9000.txt'\n",
    "coarse_list = []\n",
    "with open(data_path_1, 'r') as f:\n",
    "    for data in tqdm(f):\n",
    "        data = json.loads(data)\n",
    "        l += 1\n",
    "print('max length is {:}'.format(l))"
   ]
  }
 ],
 "metadata": {
  "interpreter": {
   "hash": "ab7a9148291449fc4391f360f086843f6cf18b6c2df8af6702dacf91b204e632"
  },
  "kernelspec": {
   "display_name": "Python 3.8.8 ('base')",
   "language": "python",
   "name": "python3"
  },
  "language_info": {
   "codemirror_mode": {
    "name": "ipython",
    "version": 3
   },
   "file_extension": ".py",
   "mimetype": "text/x-python",
   "name": "python",
   "nbconvert_exporter": "python",
   "pygments_lexer": "ipython3",
   "version": "3.9.7"
  },
  "orig_nbformat": 4
 },
 "nbformat": 4,
 "nbformat_minor": 2
}
