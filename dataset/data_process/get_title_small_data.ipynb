{
 "cells": [
  {
   "cell_type": "code",
   "execution_count": 1,
   "metadata": {},
   "outputs": [],
   "source": [
    "import json\n",
    "from tqdm import tqdm "
   ]
  },
  {
   "cell_type": "code",
   "execution_count": 2,
   "metadata": {},
   "outputs": [
    {
     "name": "stderr",
     "output_type": "stream",
     "text": [
      "9700it [00:10, 893.46it/s]\n"
     ]
    },
    {
     "name": "stdout",
     "output_type": "stream",
     "text": [
      "9000\n",
      "700\n"
     ]
    }
   ],
   "source": [
    "coarse_path = 'processed_data/coarse100000.txt'\n",
    "\n",
    "coarse_train_path = 'title_small/train/coarse9000_pos.txt'\n",
    "coarse_val_path = 'title_small/val/coarse700_pos.txt'\n",
    "\n",
    "\n",
    "train_rets = []\n",
    "val_rets = []\n",
    "\n",
    "with open(coarse_path, 'r') as f:\n",
    "    for i, data in enumerate(tqdm(f)):\n",
    "        data = json.loads(data)\n",
    "        if len(train_rets) < 9000:      \n",
    "            train_rets.append(json.dumps(data, ensure_ascii=False)+'\\n')\n",
    "        elif len(val_rets) < 700:\n",
    "            val_rets.append(json.dumps(data, ensure_ascii=False)+'\\n')\n",
    "        else:\n",
    "            break\n",
    "        # if i>500:\n",
    "        #     break\n",
    "        # i += 1\n",
    "        \n",
    "print(len(train_rets))\n",
    "print(len(val_rets))\n",
    "\n",
    "with open(coarse_train_path, 'w') as f:\n",
    "    f.writelines(train_rets)\n",
    "with open(coarse_val_path, 'w') as f:\n",
    "    f.writelines(val_rets)"
   ]
  },
  {
   "cell_type": "code",
   "execution_count": 2,
   "metadata": {},
   "outputs": [
    {
     "name": "stderr",
     "output_type": "stream",
     "text": [
      "10412it [00:11, 908.38it/s]\n"
     ]
    },
    {
     "name": "stdout",
     "output_type": "stream",
     "text": [
      "9000\n",
      "1412\n"
     ]
    }
   ],
   "source": [
    "coarse_path = 'val/coarse10412.txt'\n",
    "\n",
    "coarse_train_path = 'title_small/train/coarse9000.txt'\n",
    "coarse_val_path = 'title_small/val/coarse1412.txt'\n",
    "\n",
    "\n",
    "train_rets = []\n",
    "val_rets = []\n",
    "\n",
    "with open(coarse_path, 'r') as f:\n",
    "    for i, data in enumerate(tqdm(f)):\n",
    "        data = json.loads(data)\n",
    "        if len(train_rets) < 9000:      \n",
    "            train_rets.append(json.dumps(data, ensure_ascii=False)+'\\n')\n",
    "        else:\n",
    "            val_rets.append(json.dumps(data, ensure_ascii=False)+'\\n')\n",
    "            \n",
    "        # if i>500:\n",
    "        #     break\n",
    "        # i += 1\n",
    "        \n",
    "print(len(train_rets))\n",
    "print(len(val_rets))\n",
    "\n",
    "with open(coarse_train_path, 'w') as f:\n",
    "    f.writelines(train_rets)\n",
    "with open(coarse_val_path, 'w') as f:\n",
    "    f.writelines(val_rets)"
   ]
  },
  {
   "cell_type": "code",
   "execution_count": 3,
   "metadata": {},
   "outputs": [
    {
     "name": "stderr",
     "output_type": "stream",
     "text": [
      "9700it [00:10, 913.21it/s]\n"
     ]
    },
    {
     "name": "stdout",
     "output_type": "stream",
     "text": [
      "9000\n",
      "700\n"
     ]
    }
   ],
   "source": [
    "fine_path = 'processed_data/fine50000.txt'\n",
    "\n",
    "fine_train_path = 'title_small/train/fine9000.txt'\n",
    "fine_val_path = 'title_small/val/fine700.txt'\n",
    "\n",
    "\n",
    "train_rets = []\n",
    "val_rets = []\n",
    "\n",
    "with open(fine_path, 'r') as f:\n",
    "    for i, data in enumerate(tqdm(f)):\n",
    "        data = json.loads(data)\n",
    "        if len(train_rets) < 9000:      \n",
    "            train_rets.append(json.dumps(data, ensure_ascii=False)+'\\n')\n",
    "        elif len(val_rets) < 700:\n",
    "            val_rets.append(json.dumps(data, ensure_ascii=False)+'\\n')\n",
    "        else:\n",
    "            break \n",
    "        \n",
    "        # if i>500:\n",
    "        #     break\n",
    "        # i += 1\n",
    "        \n",
    "print(len(train_rets))\n",
    "print(len(val_rets))\n",
    "\n",
    "with open(fine_train_path, 'w') as f:\n",
    "    f.writelines(train_rets)\n",
    "with open(fine_val_path, 'w') as f:\n",
    "    f.writelines(val_rets)"
   ]
  },
  {
   "cell_type": "code",
   "execution_count": null,
   "metadata": {},
   "outputs": [],
   "source": []
  }
 ],
 "metadata": {
  "interpreter": {
   "hash": "a7cf278074aea429de13d88b394304564a7b018f3e18e13089daf4fad90abe0d"
  },
  "kernelspec": {
   "display_name": "Python 3.9.7 ('base')",
   "language": "python",
   "name": "python3"
  },
  "language_info": {
   "codemirror_mode": {
    "name": "ipython",
    "version": 3
   },
   "file_extension": ".py",
   "mimetype": "text/x-python",
   "name": "python",
   "nbconvert_exporter": "python",
   "pygments_lexer": "ipython3",
   "version": "3.9.7"
  },
  "orig_nbformat": 4
 },
 "nbformat": 4,
 "nbformat_minor": 2
}
