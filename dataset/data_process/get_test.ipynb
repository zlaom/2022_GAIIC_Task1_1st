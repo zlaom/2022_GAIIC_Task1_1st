{
 "cells": [
  {
   "cell_type": "code",
   "execution_count": 10,
   "metadata": {},
   "outputs": [],
   "source": [
    "import json\n",
    "from tqdm import tqdm \n",
    "import random "
   ]
  },
  {
   "cell_type": "code",
   "execution_count": 18,
   "metadata": {},
   "outputs": [
    {
     "name": "stderr",
     "output_type": "stream",
     "text": [
      "5000it [00:05, 903.39it/s]\n"
     ]
    },
    {
     "name": "stdout",
     "output_type": "stream",
     "text": [
      "5000\n"
     ]
    }
   ],
   "source": [
    "random.seed(0)\n",
    "# 直接从equal_split_word数据生成,考虑了coarse的情况\n",
    "attr_dict_file = '../../data/equal_processed_data/attr_to_attrvals.json'\n",
    "with open(attr_dict_file, 'r') as f:\n",
    "    attr_dict = json.load(f)\n",
    "\n",
    "def get_negative_dict(attr_dict):\n",
    "        negative_dict = {}\n",
    "        for query, attr_list in attr_dict.items():\n",
    "            negative_dict[query] = {}\n",
    "            for attr in attr_list:\n",
    "                l = attr_list.copy()\n",
    "                l.remove(attr)\n",
    "                negative_dict[query][attr] = l\n",
    "        return negative_dict\n",
    "negative_dict = get_negative_dict(attr_dict)\n",
    "\n",
    "\n",
    "# file = '../../data/equal_split_word/attr/coarse4588.txt'\n",
    "# save_file = '../../data/equal_split_word/mytest4588_hide.txt'\n",
    "file = '../../data/equal_split_word/fine5000.txt'\n",
    "save_file = '../../data/equal_split_word/mytest5000_hide.txt'\n",
    "\n",
    "\n",
    "rets = []\n",
    "with open(file, 'r') as f:\n",
    "    for i, data in enumerate(tqdm(f)):\n",
    "        data = json.loads(data)\n",
    "        img_name = data['img_name']\n",
    "        title = data['title']\n",
    "        key_attr = data['key_attr']\n",
    "        if not key_attr:\n",
    "            continue\n",
    "        match = data['match']\n",
    "        vocab_split = data['vocab_split']\n",
    "        del data['title_split']\n",
    "        # del data['feature']\n",
    "        # 包 永远只有一个属性，1/3的概率为负\n",
    "        if '类别' in key_attr.keys():\n",
    "            if random.random() < 1/3:\n",
    "                query = '类别'\n",
    "                attr = key_attr[query]\n",
    "                new_attr = random.sample(negative_dict[query][attr], 1)[0]\n",
    "                key_attr[query] = new_attr\n",
    "                title = title.replace(attr, new_attr)\n",
    "                idx = vocab_split.index(attr)\n",
    "                vocab_split[idx] = new_attr\n",
    "                match['类别'] = 0\n",
    "                match['图文'] = 0\n",
    "        # 其他样本，29.2%的概率为正样本\n",
    "        else:\n",
    "            if random.random() < (1 - 0.3): # 以此概率为负\n",
    "                match['图文'] = 0\n",
    "                # 先随机选取一个属性为负\n",
    "                query = random.sample(list(key_attr.keys()), 1)[0]\n",
    "                attr = key_attr[query]\n",
    "                new_attr = random.sample(negative_dict[query][attr], 1)[0]\n",
    "                key_attr[query] = new_attr\n",
    "                title = title.replace(attr, new_attr)\n",
    "                idx = vocab_split.index(attr)\n",
    "                vocab_split[idx] = new_attr\n",
    "                match[query] = 0\n",
    "                # 其余属性以一定概率变负\n",
    "                for query, attr in key_attr.items():\n",
    "                    if match[query] != 0:\n",
    "                        if random.random() < 0.4375: # 0.434\n",
    "                            new_attr = random.sample(negative_dict[query][attr], 1)[0]\n",
    "                            key_attr[query] = new_attr\n",
    "                            title = title.replace(attr, new_attr)\n",
    "                            idx = vocab_split.index(attr)\n",
    "                            vocab_split[idx] = new_attr\n",
    "                            match[query] = 0\n",
    "                # 隐藏属性\n",
    "                if len(key_attr) >= 2: # 属性不少于两个\n",
    "                    flag_0 = 0\n",
    "                    flag_1 = 0\n",
    "                    for query, value in match.items(): # 有正有负\n",
    "                        if query != '图文':\n",
    "                            if value == 1:\n",
    "                                flag_1 = 1\n",
    "                            else:\n",
    "                                flag_0 = 1\n",
    "                    if flag_0 and flag_1:\n",
    "                        if random.random() < 0.3: # 一定概率进行隐藏\n",
    "                            match_copy = match.copy()\n",
    "                            for query, value in match_copy.items():\n",
    "                                if query != '图文':\n",
    "                                    if value == 0:\n",
    "                                        del match[query]\n",
    "                                        del key_attr[query]\n",
    "            \n",
    "        data['title'] = title \n",
    "        data['key_attr'] = key_attr \n",
    "        data['match'] = match \n",
    "        data['vocab_split'] = vocab_split\n",
    "        rets.append(json.dumps(data, ensure_ascii=False)+'\\n')\n",
    "\n",
    "print(len(rets))\n",
    "with open(save_file, 'w') as f:\n",
    "    f.writelines(rets)"
   ]
  },
  {
   "cell_type": "code",
   "execution_count": 19,
   "metadata": {},
   "outputs": [
    {
     "name": "stderr",
     "output_type": "stream",
     "text": [
      "5000it [00:01, 3638.06it/s]"
     ]
    },
    {
     "name": "stdout",
     "output_type": "stream",
     "text": [
      "5000\n"
     ]
    },
    {
     "name": "stderr",
     "output_type": "stream",
     "text": [
      "\n"
     ]
    }
   ],
   "source": [
    "# 生成只包含match的ground_truth文件\n",
    "\n",
    "# file = '../../data/equal_split_word/mytest4588_hide.txt'\n",
    "# save_file = '../../data/equal_split_word/mytest4588_hide_gt.txt'\n",
    "\n",
    "file = '../../data/equal_split_word/mytest5000_hide.txt'\n",
    "save_file = '../../data/equal_split_word/mytest5000_hide_gt.txt'\n",
    "\n",
    "rets = []\n",
    "with open(file, 'r') as f:\n",
    "    for i, data in enumerate(tqdm(f)):\n",
    "        data = json.loads(data)\n",
    "        del data['title']\n",
    "        del data['key_attr']\n",
    "        del data['feature']\n",
    "        del data['vocab_split']\n",
    "        rets.append(json.dumps(data, ensure_ascii=False)+'\\n')\n",
    "\n",
    "print(len(rets))\n",
    "with open(save_file, 'w') as f:\n",
    "    f.writelines(rets)"
   ]
  },
  {
   "cell_type": "code",
   "execution_count": null,
   "metadata": {},
   "outputs": [],
   "source": []
  }
 ],
 "metadata": {
  "interpreter": {
   "hash": "a7cf278074aea429de13d88b394304564a7b018f3e18e13089daf4fad90abe0d"
  },
  "kernelspec": {
   "display_name": "Python 3.9.7 ('base')",
   "language": "python",
   "name": "python3"
  },
  "language_info": {
   "codemirror_mode": {
    "name": "ipython",
    "version": 3
   },
   "file_extension": ".py",
   "mimetype": "text/x-python",
   "name": "python",
   "nbconvert_exporter": "python",
   "pygments_lexer": "ipython3",
   "version": "3.9.7"
  },
  "orig_nbformat": 4
 },
 "nbformat": 4,
 "nbformat_minor": 2
}
