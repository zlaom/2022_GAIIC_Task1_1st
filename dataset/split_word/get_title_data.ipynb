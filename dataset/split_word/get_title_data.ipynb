{
 "cells": [
  {
   "cell_type": "code",
   "execution_count": 1,
   "metadata": {},
   "outputs": [],
   "source": [
    "from tqdm import tqdm\n",
    "import json"
   ]
  },
  {
   "cell_type": "code",
   "execution_count": 2,
   "metadata": {},
   "outputs": [
    {
     "name": "stderr",
     "output_type": "stream",
     "text": [
      "45000it [00:49, 903.80it/s]\n",
      "5000it [00:05, 942.91it/s] \n"
     ]
    }
   ],
   "source": [
    "# [fine40000, fine9000, fine700]\n",
    "fine_file = '../../data/equal_split_word/fine45000.txt,../../data/equal_split_word/fine5000.txt'\n",
    "save_fine_file_pretrain = '../../data/equal_split_word/title/fine40000.txt'\n",
    "save_fine_file_train = '../../data/equal_split_word/title/fine9000.txt'\n",
    "save_fine_file_val = '../../data/equal_split_word/title/fine700.txt'\n",
    "\n",
    "rets_pretrain = []\n",
    "rets_train = []\n",
    "rets_val = []\n",
    "for file in fine_file.split(','):\n",
    "    with open(file, 'r') as f:\n",
    "        for i, line in enumerate(tqdm(f)):\n",
    "            item = json.loads(line)\n",
    "            # del item['feature']\n",
    "            if len(rets_pretrain) < 40000:\n",
    "                rets_pretrain.append(json.dumps(item, ensure_ascii=False)+'\\n')\n",
    "            elif len(rets_train) < 9000:\n",
    "                rets_train.append(json.dumps(item, ensure_ascii=False)+'\\n')\n",
    "            elif len(rets_val) < 700:\n",
    "                rets_val.append(json.dumps(item, ensure_ascii=False)+'\\n')\n",
    "        \n",
    "with open(save_fine_file_pretrain, 'w') as f:\n",
    "    f.writelines(rets_pretrain)\n",
    "with open(save_fine_file_train, 'w') as f:\n",
    "    f.writelines(rets_train)\n",
    "with open(save_fine_file_val, 'w') as f:\n",
    "    f.writelines(rets_val)"
   ]
  },
  {
   "cell_type": "code",
   "execution_count": 3,
   "metadata": {},
   "outputs": [
    {
     "name": "stderr",
     "output_type": "stream",
     "text": [
      "10412it [00:11, 900.74it/s]\n"
     ]
    }
   ],
   "source": [
    "# [coarse89588 coarse9000 coarse1412]\n",
    "coarse_file = '../../data/equal_split_word/coarse10412.txt'\n",
    "\n",
    "save_coarse_file_train = '../../data/equal_split_word/title/coarse9000.txt'\n",
    "save_coarse_file_val = '../../data/equal_split_word/title/coarse1412.txt'\n",
    "\n",
    "\n",
    "rets_train = []\n",
    "rets_val = []\n",
    "for file in coarse_file.split(','):\n",
    "    with open(file, 'r') as f:\n",
    "        for i, line in enumerate(tqdm(f)):\n",
    "            item = json.loads(line)\n",
    "            # del item['feature']\n",
    "            if len(rets_train) < 9000:\n",
    "                rets_train.append(json.dumps(item, ensure_ascii=False)+'\\n')\n",
    "            elif len(rets_val) < 1412:\n",
    "                rets_val.append(json.dumps(item, ensure_ascii=False)+'\\n')\n",
    "        \n",
    "\n",
    "with open(save_coarse_file_train, 'w') as f:\n",
    "    f.writelines(rets_train)\n",
    "with open(save_coarse_file_val, 'w') as f:\n",
    "    f.writelines(rets_val)"
   ]
  },
  {
   "cell_type": "code",
   "execution_count": null,
   "metadata": {},
   "outputs": [],
   "source": []
  }
 ],
 "metadata": {
  "interpreter": {
   "hash": "a7cf278074aea429de13d88b394304564a7b018f3e18e13089daf4fad90abe0d"
  },
  "kernelspec": {
   "display_name": "Python 3.9.7 ('base')",
   "language": "python",
   "name": "python3"
  },
  "language_info": {
   "codemirror_mode": {
    "name": "ipython",
    "version": 3
   },
   "file_extension": ".py",
   "mimetype": "text/x-python",
   "name": "python",
   "nbconvert_exporter": "python",
   "pygments_lexer": "ipython3",
   "version": "3.9.7"
  },
  "orig_nbformat": 4
 },
 "nbformat": 4,
 "nbformat_minor": 2
}
