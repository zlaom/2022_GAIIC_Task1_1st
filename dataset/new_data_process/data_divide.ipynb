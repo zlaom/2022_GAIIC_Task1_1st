{
 "cells": [
  {
   "cell_type": "code",
   "execution_count": 5,
   "metadata": {},
   "outputs": [],
   "source": [
    "import os\n",
    "from tqdm import tqdm \n",
    "import json\n",
    "import random \n",
    "\n",
    "\n",
    "fine_file = '../../data/new_data/equal_split_word/fine50000.txt'\n",
    "coarse_neg_file = '../../data/new_data/equal_split_word/coarse10412.txt'\n",
    "\n",
    "SAVE_DIR = '../../data/new_data/divided'\n",
    "if not os.path.exists(SAVE_DIR):\n",
    "    os.makedirs(SAVE_DIR)"
   ]
  },
  {
   "cell_type": "code",
   "execution_count": 6,
   "metadata": {},
   "outputs": [
    {
     "name": "stdout",
     "output_type": "stream",
     "text": [
      "divide fine data...\n"
     ]
    },
    {
     "name": "stderr",
     "output_type": "stream",
     "text": [
      "50000it [00:19, 2625.70it/s]\n"
     ]
    },
    {
     "name": "stdout",
     "output_type": "stream",
     "text": [
      "45000\n",
      "5000\n"
     ]
    }
   ],
   "source": [
    "# [fine] 划分train val数据\n",
    "print('divide fine data...')\n",
    "fine_train_path = os.path.join(SAVE_DIR, 'fine45000.txt')\n",
    "fine_val_path = os.path.join(SAVE_DIR, 'fine5000.txt')\n",
    "\n",
    "train_rets = []\n",
    "val_rets = []\n",
    "\n",
    "all_data = []\n",
    "with open(fine_file, 'r') as f:\n",
    "    for i, data in enumerate(tqdm(f)):\n",
    "        data = json.loads(data)\n",
    "        all_data.append(data)\n",
    "        \n",
    "random.seed(0)\n",
    "random.shuffle(all_data)\n",
    "for data in all_data:\n",
    "    if len(train_rets) < 45000:\n",
    "        train_rets.append(json.dumps(data, ensure_ascii=False)+'\\n')\n",
    "    else:\n",
    "        val_rets.append(json.dumps(data, ensure_ascii=False)+'\\n')\n",
    "        \n",
    "print(len(train_rets))\n",
    "print(len(val_rets))\n",
    "\n",
    "with open(fine_train_path, 'w') as f:\n",
    "    f.writelines(train_rets)\n",
    "with open(fine_val_path, 'w') as f:\n",
    "    f.writelines(val_rets)"
   ]
  },
  {
   "cell_type": "code",
   "execution_count": null,
   "metadata": {},
   "outputs": [],
   "source": []
  }
 ],
 "metadata": {
  "interpreter": {
   "hash": "a7cf278074aea429de13d88b394304564a7b018f3e18e13089daf4fad90abe0d"
  },
  "kernelspec": {
   "display_name": "Python 3.9.7 ('base')",
   "language": "python",
   "name": "python3"
  },
  "language_info": {
   "codemirror_mode": {
    "name": "ipython",
    "version": 3
   },
   "file_extension": ".py",
   "mimetype": "text/x-python",
   "name": "python",
   "nbconvert_exporter": "python",
   "pygments_lexer": "ipython3",
   "version": "3.9.7"
  },
  "orig_nbformat": 4
 },
 "nbformat": 4,
 "nbformat_minor": 2
}
