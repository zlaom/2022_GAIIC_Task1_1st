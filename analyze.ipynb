{
 "cells": [
  {
   "cell_type": "code",
   "execution_count": 4,
   "metadata": {},
   "outputs": [
    {
     "name": "stdout",
     "output_type": "stream",
     "text": [
      "领型\n",
      "{'裙长', '袖长', '裤长', '裤型', '衣长', '闭合方式', '版型', '鞋帮高度', '领型', '裤门襟', '穿着方式', '类别'}\n"
     ]
    }
   ],
   "source": [
    "import numpy as np\n",
    "import pandas as pd\n",
    "import json\n",
    "\n",
    "fine_path = 'data/train_fine.txt'\n",
    "dic = set()\n",
    "count = 1\n",
    "l = 0\n",
    "with open(fine_path, 'r', encoding='utf-8') as f:\n",
    "    lines = f.readlines()\n",
    "    for line in lines:\n",
    "        data = json.loads(line)\n",
    "        l = max(0, len(data['title']))\n",
    "        for key in data['key_attr']:\n",
    "            if key not in dic:\n",
    "                dic.add(key)\n",
    "                count += 1\n",
    "\n",
    "print(key)\n",
    "print(dic)\n"
   ]
  },
  {
   "cell_type": "code",
   "execution_count": 5,
   "metadata": {},
   "outputs": [
    {
     "name": "stdout",
     "output_type": "stream",
     "text": [
      "19\n"
     ]
    }
   ],
   "source": [
    "print(l)"
   ]
  },
  {
   "cell_type": "code",
   "execution_count": 9,
   "metadata": {},
   "outputs": [
    {
     "name": "stdout",
     "output_type": "stream",
     "text": [
      "defaultdict(<class 'int'>, {'领型': 0, '袖长': 1, '衣长': 2, '版型': 3, '裙长': 4, '穿着方式': 5, '类别': 6, '裤型': 7, '裤长': 8, '裤门襟': 9, '闭合方式': 10, '鞋帮高度': 11})\n"
     ]
    }
   ],
   "source": [
    "import collections\n",
    "\n",
    "key_dic = collections.defaultdict(int)\n",
    "i = 0\n",
    "with open('data/attr_to_attrvals.json', 'r', encoding='utf-8') as f:\n",
    "    key_attr = json.load(f)\n",
    "    for key in key_attr:\n",
    "        key_dic[key] = i\n",
    "        i += 1\n",
    "print(key_dic)\n"
   ]
  },
  {
   "cell_type": "code",
   "execution_count": 10,
   "metadata": {},
   "outputs": [
    {
     "name": "stdout",
     "output_type": "stream",
     "text": [
      "129176\n",
      "16824\n",
      "4000\n",
      "150000\n"
     ]
    }
   ],
   "source": [
    "import os \n",
    "import numpy as np\n",
    "import json\n",
    "\n",
    "data_path_1 = './data/train_fine.txt'\n",
    "data_path_2 = './data/train_coarse.txt'\n",
    "\n",
    "data_pos_list = []\n",
    "data_neg_list = []\n",
    "\n",
    "with open(data_path_1, 'r', encoding='utf-8') as f:\n",
    "    lines = f.readlines()\n",
    "    for line in lines:\n",
    "        data = json.loads(line)\n",
    "        if data['match']['图文'] == 1:\n",
    "            data_pos_list.append(data)\n",
    "        else:\n",
    "            data_neg_list.append(data)\n",
    "\n",
    "with open(data_path_2, 'r', encoding='utf-8') as f:\n",
    "    lines = f.readlines()\n",
    "    for line in lines:\n",
    "        data = json.loads(line)\n",
    "        if data['match']['图文'] == 1:\n",
    "            data_pos_list.append(data)\n",
    "        else:\n",
    "            data_neg_list.append(data)\n",
    "\n",
    "np.random.shuffle(data_pos_list)\n",
    "x_train_list = data_pos_list[:len(data_pos_list)-len(data_neg_list)]\n",
    "x_val_list = data_pos_list[len(data_pos_list)-len(data_neg_list):] + data_neg_list\n",
    "np.random.shuffle(x_val_list)\n",
    "\n",
    "pre_ret = []\n",
    "train_ret = []\n",
    "val_ret = []\n",
    "for dic in x_train_list:\n",
    "    pre_ret.append(json.dumps(dic, ensure_ascii=False)+'\\n')\n",
    "\n",
    "l = len(x_val_list)-4000\n",
    "for i in range(l):\n",
    "    dic = x_val_list[i]\n",
    "    train_ret.append(json.dumps(dic, ensure_ascii=False)+'\\n')\n",
    "\n",
    "for i in range(l, len(x_val_list)):\n",
    "    dic = x_val_list[i]\n",
    "    val_ret.append(json.dumps(dic, ensure_ascii=False)+'\\n')\n",
    "\n",
    "with open('./data/pretrain_match.txt', 'w', encoding='utf-8') as f:\n",
    "    f.writelines(pre_ret)\n",
    "\n",
    "with open('./data/train_match.txt', 'w', encoding='utf-8') as f:\n",
    "    f.writelines(train_ret)\n",
    "\n",
    "with open('./data/val_match.txt', 'w', encoding='utf-8') as f:\n",
    "    f.writelines(val_ret)\n",
    "\n",
    "print(len(pre_ret))\n",
    "print(len(train_ret))\n",
    "print(len(val_ret))\n",
    "print(len(pre_ret) + len(train_ret) + len(val_ret))"
   ]
  }
 ],
 "metadata": {
  "interpreter": {
   "hash": "ac71fce329e590cf60d05e85f1e361b3138a1b17dd586b9aaebfc1dd7e1fc45f"
  },
  "kernelspec": {
   "display_name": "Python 3.6.13 ('open_clip')",
   "language": "python",
   "name": "python3"
  },
  "language_info": {
   "codemirror_mode": {
    "name": "ipython",
    "version": 3
   },
   "file_extension": ".py",
   "mimetype": "text/x-python",
   "name": "python",
   "nbconvert_exporter": "python",
   "pygments_lexer": "ipython3",
   "version": "3.9.7"
  },
  "orig_nbformat": 4
 },
 "nbformat": 4,
 "nbformat_minor": 2
}
