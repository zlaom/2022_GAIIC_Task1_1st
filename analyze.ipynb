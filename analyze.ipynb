{
 "cells": [
  {
   "cell_type": "code",
   "execution_count": 1,
   "metadata": {},
   "outputs": [
    {
     "name": "stderr",
     "output_type": "stream",
     "text": [
      "100000it [01:45, 947.63it/s]"
     ]
    },
    {
     "name": "stdout",
     "output_type": "stream",
     "text": [
      "pos attr yes 88463 | pos attr no 1125 | neg attr yes 10412 | neg attr no 0 |\n",
      "sum is :  100000\n"
     ]
    },
    {
     "name": "stderr",
     "output_type": "stream",
     "text": [
      "\n"
     ]
    }
   ],
   "source": [
    "import re\n",
    "import json\n",
    "import torch\n",
    "import numpy as np\n",
    "from tqdm import tqdm \n",
    "import itertools\n",
    "\n",
    "def load_attr_dict(file):\n",
    "    # 读取属性字典\n",
    "    with open(file, 'r', encoding='utf-8') as f:\n",
    "        attr_dict = {}\n",
    "        for attr, attrval_list in json.load(f).items():\n",
    "            attrval_list = list(map(lambda x: x.split('='), attrval_list))\n",
    "            attr_dict[attr] = list(itertools.chain.from_iterable(attrval_list))\n",
    "    return attr_dict\n",
    "\n",
    "\n",
    "def generate_key_attr(path):\n",
    "    attr_dict = load_attr_dict(\"./data/attr_to_attrvals.json\")\n",
    "    querys = attr_dict.keys()\n",
    "    # 得到coarse.txt的属性\n",
    "    pos_attr_yes = []\n",
    "    pos_attr_no = []\n",
    "    neg_attr_yes = []\n",
    "    neg_attr_no = []\n",
    "    with open(path, 'r', encoding='utf-8') as f:\n",
    "        for i, data in enumerate(tqdm(f)):\n",
    "            data = json.loads(data)\n",
    "            title = data['title']\n",
    "            # 去除title中年份和数字\n",
    "            title = ''.join([ch for ch in title if (not ch.isdigit()) and (ch != '年')])\n",
    "            data['title'] = title\n",
    "            \n",
    "            for query in querys:\n",
    "                values = attr_dict[query]\n",
    "                if (query == '裤门襟') and ('裤' not in title):\n",
    "                    continue\n",
    "                if (query == '闭合方式') and ('鞋' not in title or '靴' not in title):\n",
    "                    continue\n",
    "                for value in values:\n",
    "                    if query == '衣长' and '中长款' in title:\n",
    "                        data['key_attr'][query] = '中款'\n",
    "                        title.replace('中长款', '中款')\n",
    "                        break\n",
    "                    if query == '裙长' and '中长裙' in title:\n",
    "                        data['key_attr'][query] = '中裙'\n",
    "                        title.replace('中长裙', '中裙')\n",
    "                        break\n",
    "                    if value in title:\n",
    "                        data['key_attr'][query] =  value\n",
    "            if '厚度常规' in title:\n",
    "                title = title.replace('厚度常规', '常规厚度')\n",
    "            if data['match']['图文'] == 1: \n",
    "                if data['key_attr']:    \n",
    "                    pos_attr_yes.append(json.dumps(data, ensure_ascii=False)+'\\n')\n",
    "                else:\n",
    "                    pos_attr_no.append(json.dumps(data, ensure_ascii=False)+'\\n')\n",
    "            else: \n",
    "                if data['key_attr']:    \n",
    "                    neg_attr_yes.append(json.dumps(data, ensure_ascii=False)+'\\n')\n",
    "                else:\n",
    "                    neg_attr_no.append(json.dumps(data, ensure_ascii=False)+'\\n')\n",
    "    \n",
    "    print('pos attr yes {:} | pos attr no {:} | neg attr yes {:} | neg attr no {:} |'.format(len(pos_attr_yes), len(pos_attr_no), len(neg_attr_yes), len(neg_attr_no)))\n",
    "    print('sum is : ', len(pos_attr_yes) + len(pos_attr_no) + len(neg_attr_yes) + len(neg_attr_no))\n",
    "    return pos_attr_yes, pos_attr_no, neg_attr_yes, neg_attr_no\n",
    "\n",
    "coarse_path = './data/train_coarse.txt'\n",
    "\n",
    "coarse_pos_attr_yes, coarse_pos_attr_no, coarse_neg_attr_yes, coarse_neg_attr_no = generate_key_attr(coarse_path)"
   ]
  },
  {
   "cell_type": "code",
   "execution_count": 2,
   "metadata": {},
   "outputs": [
    {
     "name": "stdout",
     "output_type": "stream",
     "text": [
      "{'领型': ['高领=半高领=立领', '连帽=可脱卸帽', '翻领=衬衫领=POLO领=方领=娃娃领=荷叶领', '双层领', '西装领', 'U型领', '一字领', '围巾领', '堆堆领', 'V领', '棒球领', '圆领', '斜领', '亨利领'], '袖长': ['短袖=五分袖', '九分袖=长袖', '七分袖', '无袖'], '衣长': ['超短款=短款=常规款', '长款=超长款', '中长款'], '版型': ['修身型=标准型', '宽松型'], '裙长': ['短裙=超短裙', '中裙=中长裙', '长裙'], '穿着方式': ['套头', '开衫'], '类别': ['手提包', '单肩包', '斜挎包', '双肩包'], '裤型': ['O型裤=锥形裤=哈伦裤=灯笼裤', '铅笔裤=直筒裤=小脚裤', '工装裤', '紧身裤', '背带裤', '喇叭裤=微喇裤', '阔腿裤'], '裤长': ['短裤', '五分裤', '七分裤', '九分裤=长裤'], '裤门襟': ['松紧', '拉链', '系带'], '闭合方式': ['松紧带', '拉链', '套筒=套脚=一脚蹬', '系带', '魔术贴', '搭扣'], '鞋帮高度': ['高帮=中帮', '低帮']}\n"
     ]
    }
   ],
   "source": [
    "import json\n",
    "new_dic = {}\n",
    "# 生成 attr_values值 { key:[[val_1=,], [val_2=, ]]}\n",
    "with open('./data/attr_to_attrvals.json', 'r', encoding='utf-8') as f:\n",
    "    attr_key = json.load(f)\n",
    "    print(attr_key)\n",
    "    for key, value in attr_key.items():\n",
    "        tmp = []\n",
    "        for v in value:\n",
    "            if '=' in v:\n",
    "                if key == '裙长' and '中长裙' in v:\n",
    "                    tmp.append(['中裙'])\n",
    "                else:\n",
    "                    tmp.append(v.split('='))\n",
    "            else:\n",
    "                if key == '衣长' and '中长款' in v:\n",
    "                    tmp.append(['中款'])\n",
    "                else:\n",
    "                    tmp.append([v])\n",
    "        new_dic[key] = tmp\n",
    "\n",
    "dic_rets = [json.dumps(new_dic, ensure_ascii=False)+'\\n']\n",
    "with open('./data/attr_match_78.json', 'w', encoding='utf-8') as f:\n",
    "    f.writelines(dic_rets)"
   ]
  },
  {
   "cell_type": "code",
   "execution_count": 3,
   "metadata": {},
   "outputs": [
    {
     "name": "stderr",
     "output_type": "stream",
     "text": [
      "50000it [00:53, 939.37it/s]\n"
     ]
    }
   ],
   "source": [
    "def process_title(path):\n",
    "    # 处理title中引起歧义的两个词和过滤title\n",
    "    rets = []\n",
    "    with open(path, 'r') as f:\n",
    "        for i, data in enumerate(tqdm(f)):\n",
    "            data = json.loads(data)\n",
    "            title = data['title']\n",
    "            # 去除title中年份和数字\n",
    "            title = ''.join([ch for ch in title if (not ch.isdigit()) and (ch != '年')])\n",
    "\n",
    "            key_attr = data['key_attr']\n",
    "            \n",
    "            # 属性替换\n",
    "            for query, attr in key_attr.items():\n",
    "                # 去掉两个特殊的属性\n",
    "                if query=='衣长' and attr=='中长款':\n",
    "                    key_attr[query] = '中款'\n",
    "                    title = title.replace(attr, '中款')\n",
    "                if query=='裙长' and attr=='中长裙':\n",
    "                    key_attr[query] = '中裙'\n",
    "                    title = title.replace(attr, '中裙')\n",
    "            # 一个高频词的特殊处理\n",
    "            if '厚度常规' in title:\n",
    "                title = title.replace('厚度常规', '常规厚度')\n",
    "            data['key_attr'] = key_attr\n",
    "            data['title'] = title\n",
    "            rets.append(json.dumps(data, ensure_ascii=False)+'\\n')\n",
    "    return rets\n",
    "\n",
    "train_fine_path = './data/train_fine.txt'\n",
    "\n",
    "train_fine_data = process_title(train_fine_path)\n"
   ]
  },
  {
   "cell_type": "code",
   "execution_count": 4,
   "metadata": {},
   "outputs": [
    {
     "name": "stdout",
     "output_type": "stream",
     "text": [
      "88463\n",
      "10412\n",
      "50000\n",
      "128051\n",
      "20824\n"
     ]
    }
   ],
   "source": [
    "print(len(coarse_pos_attr_yes))\n",
    "print(len(coarse_neg_attr_yes))\n",
    "print(len(train_fine_data))\n",
    "\n",
    "pos_data = coarse_pos_attr_yes + train_fine_data\n",
    "np.random.shuffle(pos_data)\n",
    "train_data = pos_data[len(coarse_neg_attr_yes):]\n",
    "fine_data = pos_data[:len(coarse_neg_attr_yes)] + coarse_neg_attr_yes\n",
    "\n",
    "print(len(train_data))\n",
    "print(len(fine_data))\n",
    "\n",
    "with open('./data/new_pos_train.txt', 'w', encoding='utf-8') as f:\n",
    "    f.writelines(train_data)\n",
    "\n",
    "with open('./data/new_finetune_data.txt', 'w', encoding='utf-8') as f:\n",
    "    f.writelines(fine_data)"
   ]
  },
  {
   "cell_type": "code",
   "execution_count": 1,
   "metadata": {},
   "outputs": [
    {
     "name": "stdout",
     "output_type": "stream",
     "text": [
      "80\n"
     ]
    }
   ],
   "source": [
    "# 属性词典\n",
    "import json\n",
    "with open('./data/attr_match.json', 'r', encoding='utf-8') as f:\n",
    "    attr_key = json.load(f)\n",
    "new_dic = {}\n",
    "i = 0\n",
    "for key, values in attr_key.items():\n",
    "    for single_lis in values:\n",
    "        for val in single_lis:\n",
    "            new_dic[key+val] = i\n",
    "            i += 1\n",
    "print(len(new_dic.keys()))\n",
    "\n",
    "with open('./data/attr_dic.json', 'w', encoding='utf-8') as f:\n",
    "    json.dump(new_dic, f, ensure_ascii=False)\n"
   ]
  }
 ],
 "metadata": {
  "interpreter": {
   "hash": "ac71fce329e590cf60d05e85f1e361b3138a1b17dd586b9aaebfc1dd7e1fc45f"
  },
  "kernelspec": {
   "display_name": "Python 3.6.13 ('open_clip')",
   "language": "python",
   "name": "python3"
  },
  "language_info": {
   "codemirror_mode": {
    "name": "ipython",
    "version": 3
   },
   "file_extension": ".py",
   "mimetype": "text/x-python",
   "name": "python",
   "nbconvert_exporter": "python",
   "pygments_lexer": "ipython3",
   "version": "3.6.10"
  },
  "orig_nbformat": 4
 },
 "nbformat": 4,
 "nbformat_minor": 2
}
