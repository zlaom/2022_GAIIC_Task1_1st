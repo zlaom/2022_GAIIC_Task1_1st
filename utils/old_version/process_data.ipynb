{
 "cells": [
  {
   "cell_type": "code",
   "execution_count": 1,
   "metadata": {},
   "outputs": [],
   "source": [
    "import re\n",
    "import json\n",
    "import torch\n",
    "import numpy as np\n",
    "from tqdm import tqdm \n",
    "import itertools\n",
    "\n",
    "def load_attr_dict(file):\n",
    "    # 读取属性字典\n",
    "    with open(file, 'r') as f:\n",
    "        attr_dict = {}\n",
    "        for attr, attrval_list in json.load(f).items():\n",
    "            attrval_list = list(map(lambda x: x.split('='), attrval_list))\n",
    "            attr_dict[attr] = list(itertools.chain.from_iterable(attrval_list))\n",
    "    return attr_dict\n",
    "\n",
    "# load attribute dict\n",
    "attr_dict_file = \"../../data/original_data/attr_to_attrvals.json\"\n",
    "attr_dict = load_attr_dict(attr_dict_file)"
   ]
  },
  {
   "cell_type": "code",
   "execution_count": 4,
   "metadata": {},
   "outputs": [
    {
     "name": "stderr",
     "output_type": "stream",
     "text": [
      "501it [00:00, 905.35it/s]\n"
     ]
    }
   ],
   "source": [
    "# remove years [fine]\n",
    "fine_data = 'original_data/train_fine.txt'\n",
    "new_fine_data = 'processed_data/fine50000.txt'\n",
    "# new_fine_data = 'processed_data/test.txt'\n",
    "\n",
    "rets = []\n",
    "delete_list = ['2017年','2018年','2019年','2020年','2021年','2022年']\n",
    "i = 0\n",
    "with open(fine_data, 'r') as f:\n",
    "    for i, data in enumerate(tqdm(f)):\n",
    "        data = json.loads(data)\n",
    "        title = data['title']\n",
    "        title = title.upper() # 字母统一为大写\n",
    "        for delete_item in delete_list:\n",
    "            title = title.replace(delete_item, '')\n",
    "        data['title'] = title\n",
    "        \n",
    "        rets.append(json.dumps(data, ensure_ascii=False)+'\\n')\n",
    "        \n",
    "        # if i>500:\n",
    "        #     break\n",
    "        # i += 1\n",
    "          \n",
    "with open(new_fine_data, 'w') as f:\n",
    "    f.writelines(rets)"
   ]
  },
  {
   "cell_type": "code",
   "execution_count": 8,
   "metadata": {},
   "outputs": [
    {
     "name": "stderr",
     "output_type": "stream",
     "text": [
      "100000it [01:54, 875.45it/s]\n"
     ]
    }
   ],
   "source": [
    "# remove years and get attributes [coarse]\n",
    "# 裤门襟和鞋带的属性有重合，所以需要额外的判断机制\n",
    "coarse_data = 'original_data/train_coarse.txt'\n",
    "new_coarse_data = 'processed_data/coarse100000.txt'\n",
    "# new_coarse_data = 'processed_data/test.txt'\n",
    "\n",
    "rets = []\n",
    "delete_list = ['2017年','2018年','2019年','2020年','2021年','2022年']\n",
    "querys = attr_dict.keys()\n",
    "i = 0\n",
    "with open(coarse_data, 'r') as f:\n",
    "    for i, data in enumerate(tqdm(f)):\n",
    "        data = json.loads(data)\n",
    "        title = data['title']\n",
    "        title = title.upper() # 字母统一为大写\n",
    "        for delete_item in delete_list:\n",
    "            title = title.replace(delete_item, '')\n",
    "        data['title'] = title\n",
    "        \n",
    "        if data['match']['图文'] == 1:\n",
    "            for query in querys:\n",
    "                values = attr_dict[query]\n",
    "                if (query == '裤门襟') and ('裤' not in title):\n",
    "                    continue\n",
    "                if (query == '闭合方式') and ('裤' in title):\n",
    "                    continue\n",
    "                for value in values:\n",
    "                    if value in title:\n",
    "                        data['key_attr'][query] = value\n",
    "                        data['match'][query] = 1\n",
    "                    \n",
    "        rets.append(json.dumps(data, ensure_ascii=False)+'\\n')\n",
    "        \n",
    "        # if i>500:\n",
    "        #     break\n",
    "        # i += 1\n",
    "        \n",
    "        \n",
    "with open(new_coarse_data, 'w') as f:\n",
    "    f.writelines(rets)"
   ]
  },
  {
   "cell_type": "code",
   "execution_count": 5,
   "metadata": {},
   "outputs": [
    {
     "name": "stderr",
     "output_type": "stream",
     "text": [
      "4000it [00:04, 903.44it/s]\n"
     ]
    },
    {
     "name": "stdout",
     "output_type": "stream",
     "text": [
      "4000\n"
     ]
    }
   ],
   "source": [
    "# 对测试集处理，提前提取出对应的属性值\n",
    "test_data = 'original_data/preliminary_testA.txt'\n",
    "new_test_data = 'processed_data/test4000.txt'\n",
    "\n",
    "rets = []\n",
    "delete_list = ['2017年','2018年','2019年','2020年','2021年','2022年']\n",
    "\n",
    "with open(test_data, 'r') as f:\n",
    "    for i, data in enumerate(tqdm(f)):\n",
    "        data = json.loads(data)\n",
    "        title = data['title']\n",
    "        for delete_item in delete_list:\n",
    "            title = title.replace(delete_item, '')\n",
    "        data['title'] = title\n",
    "        \n",
    "        data['key_attr'] = {}\n",
    "        if len(data['query']) > 1:\n",
    "            querys = data['query'][1:]\n",
    "            for query in querys:\n",
    "                values = attr_dict[query]\n",
    "                for value in values:\n",
    "                    if value in title:\n",
    "                        data['key_attr'][query] = value\n",
    "        # 重排feature在字典中的顺序\n",
    "        feature = data['feature']\n",
    "        del data['feature']\n",
    "        data['feature'] = feature\n",
    "        rets.append(json.dumps(data, ensure_ascii=False)+'\\n')\n",
    "        \n",
    "        # if i>500:\n",
    "        #     break\n",
    "        # i += 1\n",
    "        \n",
    "print(len(rets))\n",
    "\n",
    "with open(new_test_data, 'w') as f:\n",
    "    f.writelines(rets)"
   ]
  },
  {
   "cell_type": "code",
   "execution_count": 11,
   "metadata": {},
   "outputs": [
    {
     "name": "stderr",
     "output_type": "stream",
     "text": [
      "100000it [01:52, 889.82it/s]\n"
     ]
    },
    {
     "name": "stdout",
     "output_type": "stream",
     "text": [
      "89588\n",
      "10412\n"
     ]
    }
   ],
   "source": [
    "# 分train val数据\n",
    "coarse_path = 'processed_data/coarse100000.txt'\n",
    "\n",
    "coarse_train_path = 'train/coarse89588.txt'\n",
    "coarse_val_path = 'val/coarse10412.txt'\n",
    "\n",
    "\n",
    "train_rets = []\n",
    "val_rets = []\n",
    "\n",
    "with open(coarse_path, 'r') as f:\n",
    "    for i, data in enumerate(tqdm(f)):\n",
    "        data = json.loads(data)\n",
    "        if data['match']['图文'] == 1:      \n",
    "            train_rets.append(json.dumps(data, ensure_ascii=False)+'\\n')\n",
    "        else:\n",
    "            val_rets.append(json.dumps(data, ensure_ascii=False)+'\\n')\n",
    "            \n",
    "        # if i>500:\n",
    "        #     break\n",
    "        # i += 1\n",
    "        \n",
    "print(len(train_rets))\n",
    "print(len(val_rets))\n",
    "\n",
    "with open(coarse_train_path, 'w') as f:\n",
    "    f.writelines(train_rets)\n",
    "with open(coarse_val_path, 'w') as f:\n",
    "    f.writelines(val_rets)"
   ]
  },
  {
   "cell_type": "code",
   "execution_count": 2,
   "metadata": {},
   "outputs": [
    {
     "name": "stderr",
     "output_type": "stream",
     "text": [
      "50000it [00:55, 901.53it/s]\n"
     ]
    },
    {
     "name": "stdout",
     "output_type": "stream",
     "text": [
      "45000\n",
      "5000\n"
     ]
    }
   ],
   "source": [
    "# 分train val数据\n",
    "fine_path = 'processed_data/fine50000.txt'\n",
    "\n",
    "fine_train_path = 'train/fine45000.txt'\n",
    "fine_val_path = 'val/fine5000.txt'\n",
    "\n",
    "\n",
    "train_rets = []\n",
    "val_rets = []\n",
    "\n",
    "with open(fine_path, 'r') as f:\n",
    "    for i, data in enumerate(tqdm(f)):\n",
    "        data = json.loads(data)\n",
    "        if len(train_rets) < 45000:      \n",
    "            train_rets.append(json.dumps(data, ensure_ascii=False)+'\\n')\n",
    "        else:\n",
    "            val_rets.append(json.dumps(data, ensure_ascii=False)+'\\n')\n",
    "            \n",
    "        # if i>500:\n",
    "        #     break\n",
    "        # i += 1\n",
    "        \n",
    "print(len(train_rets))\n",
    "print(len(val_rets))\n",
    "\n",
    "with open(fine_train_path, 'w') as f:\n",
    "    f.writelines(train_rets)\n",
    "with open(fine_val_path, 'w') as f:\n",
    "    f.writelines(val_rets)"
   ]
  },
  {
   "cell_type": "code",
   "execution_count": null,
   "metadata": {},
   "outputs": [],
   "source": []
  }
 ],
 "metadata": {
  "interpreter": {
   "hash": "a7cf278074aea429de13d88b394304564a7b018f3e18e13089daf4fad90abe0d"
  },
  "kernelspec": {
   "display_name": "Python 3.9.7 ('base')",
   "language": "python",
   "name": "python3"
  },
  "language_info": {
   "codemirror_mode": {
    "name": "ipython",
    "version": 3
   },
   "file_extension": ".py",
   "mimetype": "text/x-python",
   "name": "python",
   "nbconvert_exporter": "python",
   "pygments_lexer": "ipython3",
   "version": "3.9.7"
  },
  "orig_nbformat": 4
 },
 "nbformat": 4,
 "nbformat_minor": 2
}
