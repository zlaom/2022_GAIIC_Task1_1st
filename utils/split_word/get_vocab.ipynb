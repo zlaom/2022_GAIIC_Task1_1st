{
 "cells": [
  {
   "cell_type": "code",
   "execution_count": 25,
   "metadata": {},
   "outputs": [],
   "source": [
    "import json\n",
    "import collections"
   ]
  },
  {
   "cell_type": "code",
   "execution_count": 26,
   "metadata": {},
   "outputs": [],
   "source": [
    "# 读入保存的词表\n",
    "with open('base_word_dict/processed_word_dict.json', 'r') as f:\n",
    "    word_dict = json.load(f)\n",
    "\n",
    "# 定义词表\n",
    "l_vocab = []\n",
    "\n",
    "# 添加[PAD],10个[unused],[UNK],[CLS],[SEP],[MASK]\n",
    "l_vocab.append('[PAD]')\n",
    "for i in range(10):\n",
    "    l_vocab.append('[unused'+str(i+1)+']')\n",
    "    \n",
    "extra_words = ['[UNK]', '[CLS]', '[SEP]', '[MASK]']\n",
    "l_vocab = l_vocab + extra_words\n",
    "\n",
    "# 将词表转换为list，并进行排序\n",
    "l_words = []\n",
    "for word, num in word_dict.items():\n",
    "    l_words.append(word)\n",
    "l_words.sort() \n",
    "l_vocab = l_vocab + l_words\n",
    "\n",
    "# 保存为vocab\n",
    "with open('vocab.txt', 'w') as writer:\n",
    "    for word in l_vocab:\n",
    "        writer.write(word+'\\n')"
   ]
  },
  {
   "cell_type": "code",
   "execution_count": 27,
   "metadata": {},
   "outputs": [],
   "source": [
    "# 读取vocab\n",
    "def load_vocab(vocab_file):\n",
    "    \"\"\"Loads a vocabulary file into a dictionary.\"\"\"\n",
    "    vocab = collections.OrderedDict()\n",
    "    with open(vocab_file, \"r\", encoding=\"utf-8\") as reader:\n",
    "        tokens = reader.readlines()\n",
    "    for index, token in enumerate(tokens):\n",
    "        token = token.rstrip(\"\\n\")\n",
    "        vocab[token] = index\n",
    "    return vocab\n",
    "\n",
    "\n",
    "vocab_file = 'vocab.txt'\n",
    "vocab = load_vocab(vocab_file)"
   ]
  },
  {
   "cell_type": "markdown",
   "metadata": {},
   "source": [
    "#### 下面是一些tokenizer的尝试"
   ]
  },
  {
   "cell_type": "code",
   "execution_count": 8,
   "metadata": {},
   "outputs": [
    {
     "name": "stdout",
     "output_type": "stream",
     "text": [
      "[439, 340, 67]\n"
     ]
    }
   ],
   "source": [
    "split = ['黑色', '羊毛衫', '加绒']\n",
    "input_ids = []\n",
    "for word in split:\n",
    "    input_ids.append(vocab[word])\n",
    "print(input_ids)"
   ]
  },
  {
   "cell_type": "code",
   "execution_count": 22,
   "metadata": {},
   "outputs": [],
   "source": [
    "splits = [['休闲', '百搭', '标准型', '男士', '棉服', '黑色', '连帽', '常规款', '男装'], ['加厚', '女装', '白', '鸭绒', '小脚裤', '冬季', '加绒', '裤'], ['哈伦裤', '蓝色', '牛仔裤', '长裤', '加绒', '男装']]\n",
    "split_length = []\n",
    "for split in splits:\n",
    "    split_length.append(len(split))\n",
    "max_length = max(split_length)\n",
    "\n",
    "input_ids = []\n",
    "for split in splits:\n",
    "    split_ids = []\n",
    "    for word in split:\n",
    "        split_ids.append(vocab[word])\n",
    "    if len(split_ids) < max_length:\n",
    "        pad = [vocab['[PAD]']] * (max_length - len(split_ids))\n",
    "        split_ids.extend(pad)\n",
    "    input_ids.append(split_ids)"
   ]
  },
  {
   "cell_type": "code",
   "execution_count": 39,
   "metadata": {},
   "outputs": [],
   "source": [
    "import torch \n",
    "\n",
    "splits = [['休闲', '百搭', '标准型', '男士', '棉服', '黑色', '连帽', '常规款', '男装'], ['加厚', '女装', '白', '鸭绒', '小脚裤', '冬季', '加绒', '裤'], ['哈伦裤', '蓝色', '牛仔裤', '长裤', '加绒', '男装']]\n",
    "split_length = []\n",
    "for split in splits:\n",
    "    split_length.append(len(split))\n",
    "max_length = max(split_length)\n",
    "\n",
    "B = len(splits)\n",
    "W = max_length\n",
    "input_ids = torch.zeros(B, W, dtype=int)\n",
    "mask = torch.zeros(B, W, dtype=int)\n",
    "for i, split in enumerate(splits):\n",
    "    for j, word in enumerate(split):\n",
    "        input_ids[i, j] = vocab[word]\n",
    "        mask[i, j] = 1"
   ]
  }
 ],
 "metadata": {
  "interpreter": {
   "hash": "a7cf278074aea429de13d88b394304564a7b018f3e18e13089daf4fad90abe0d"
  },
  "kernelspec": {
   "display_name": "Python 3.9.7 ('base')",
   "language": "python",
   "name": "python3"
  },
  "language_info": {
   "codemirror_mode": {
    "name": "ipython",
    "version": 3
   },
   "file_extension": ".py",
   "mimetype": "text/x-python",
   "name": "python",
   "nbconvert_exporter": "python",
   "pygments_lexer": "ipython3",
   "version": "3.9.7"
  },
  "orig_nbformat": 4
 },
 "nbformat": 4,
 "nbformat_minor": 2
}
