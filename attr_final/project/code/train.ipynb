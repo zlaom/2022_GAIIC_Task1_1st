{
 "cells": [
  {
   "cell_type": "code",
   "execution_count": 11,
   "metadata": {},
   "outputs": [
    {
     "name": "stdout",
     "output_type": "stream",
     "text": [
      "preprocess fine data\n",
      "50000it [01:10, 708.10it/s]\n",
      "preprocess coarse data\n",
      "100000it [02:21, 705.79it/s]\n",
      "89588\n",
      "10412\n"
     ]
    }
   ],
   "source": [
    "# 数据预处理\n",
    "!python attr_data_preprocess.py"
   ]
  },
  {
   "cell_type": "code",
   "execution_count": 12,
   "metadata": {},
   "outputs": [],
   "source": [
    "!python attr_generate_attr_relation_dict.py"
   ]
  },
  {
   "cell_type": "code",
   "execution_count": 13,
   "metadata": {},
   "outputs": [
    {
     "name": "stdout",
     "output_type": "stream",
     "text": [
      "preprocess test data\n",
      "4000it [00:06, 610.92it/s]\n",
      "4000\n"
     ]
    }
   ],
   "source": [
    "!python attr_test_data_preprocess.py"
   ]
  },
  {
   "cell_type": "code",
   "execution_count": null,
   "metadata": {},
   "outputs": [],
   "source": [
    "# 8 4 2"
   ]
  },
  {
   "cell_type": "code",
   "execution_count": 1,
   "metadata": {},
   "outputs": [
    {
     "name": "stdout",
     "output_type": "stream",
     "text": [
      "Trian folds [5, 8, 4, 3, 2] \n",
      "\n",
      "18717it [00:08, 2159.24it/s]^C\n",
      "18881it [00:09, 2083.67it/s]\n",
      "Traceback (most recent call last):\n",
      "  File \"train_kfold_cat_attr_matching.py\", line 73, in <module>\n",
      "    item = json.loads(line)\n",
      "  File \"/home/haoquan/miniconda3/lib/python3.8/json/__init__.py\", line 357, in loads\n",
      "    return _default_decoder.decode(s)\n",
      "  File \"/home/haoquan/miniconda3/lib/python3.8/json/decoder.py\", line 337, in decode\n",
      "    obj, end = self.raw_decode(s, idx=_w(s, 0).end())\n",
      "  File \"/home/haoquan/miniconda3/lib/python3.8/json/decoder.py\", line 353, in raw_decode\n",
      "    obj, end = self.scan_once(s, idx)\n",
      "KeyboardInterrupt\n"
     ]
    }
   ],
   "source": [
    "!python train_kfold_cat_attr_matching.py --gpus 4 --fold_ids 5 8 4 3 2"
   ]
  },
  {
   "cell_type": "code",
   "execution_count": null,
   "metadata": {},
   "outputs": [],
   "source": [
    "# 4 8"
   ]
  },
  {
   "cell_type": "code",
   "execution_count": null,
   "metadata": {},
   "outputs": [],
   "source": [
    "!python train_kfold_se_attr_matching.py --gpus 5 --fold_ids 5 9 4 3 8"
   ]
  },
  {
   "cell_type": "code",
   "execution_count": 10,
   "metadata": {},
   "outputs": [
    {
     "data": {
      "text/plain": [
       "(array([5, 8, 4, 3, 2, 1, 7, 0, 9, 6]), 0.16064670830965042, 0.936503173907598)"
      ]
     },
     "execution_count": 10,
     "metadata": {},
     "output_type": "execute_result"
    }
   ],
   "source": [
    "import numpy as np\n",
    "cat_res = [\n",
    "    [0.936623235543569, 0.1612488180398941],\n",
    "    [0.9366423288981119, 0.16067825257778168],\n",
    "    [0.9369659622510275, 0.16053123772144318],\n",
    "    [0.9376933574676514, 0.1604292243719101],\n",
    "    [0.9363299608230591, 0.1594846546649933],\n",
    "    [0.9372080167134603, 0.15893949568271637],\n",
    "    [0.9345680276552836, 0.16276989877223969],\n",
    "    [0.9361033837000529, 0.1607181876897812],\n",
    "    [0.9365274310112, 0.1590977907180786],\n",
    "    [0.9363700350125631, 0.16256952285766602],\n",
    "]\n",
    "cat_res = np.array(cat_res)\n",
    "cat_res_loss = cat_res[:, 1]\n",
    "np.argsort(cat_res_loss), np.mean(cat_res[:,1]), np.mean(cat_res[:,0])"
   ]
  },
  {
   "cell_type": "code",
   "execution_count": 6,
   "metadata": {},
   "outputs": [
    {
     "data": {
      "text/plain": [
       "(array([5, 9, 4, 3, 8, 0, 2, 7, 1, 6]),\n",
       " 0.15841396003961564,\n",
       " 0.9370615820089977)"
      ]
     },
     "execution_count": 6,
     "metadata": {},
     "output_type": "execute_result"
    }
   ],
   "source": [
    "se_res = [\n",
    "    [0.9371674855550131, 0.15867383778095245],\n",
    "    [0.936972975730896, 0.1593627780675888],\n",
    "    [0.9374750852584839, 0.15870358049869537],\n",
    "    [0.9382347663243612, 0.15816082060337067],\n",
    "    [0.9360637863477071, 0.1578788161277771],\n",
    "    [0.9384589989980062, 0.15506406128406525],\n",
    "    [0.9346340298652649, 0.16176994144916534],\n",
    "    [0.9372538725535074, 0.1587478369474411],\n",
    "    [0.9374122222264608, 0.15836788713932037],\n",
    "    [0.9369425972302755, 0.15741004049777985],\n",
    "]\n",
    "se_res = np.array(se_res)\n",
    "se_res_loss = se_res[:, 1]\n",
    "np.argsort(se_res_loss), np.mean(se_res_loss), np.mean(se_res[:, 0])"
   ]
  },
  {
   "cell_type": "code",
   "execution_count": 7,
   "metadata": {},
   "outputs": [
    {
     "data": {
      "text/plain": [
       "(array([5, 8, 2, 3, 4, 0, 9, 7, 1, 6]), 0.16099263578653336, 0.936459638675054)"
      ]
     },
     "execution_count": 7,
     "metadata": {},
     "output_type": "execute_result"
    }
   ],
   "source": [
    "import numpy as np\n",
    "cat_res = [\n",
    "    [0.936623235543569, 0.1612488180398941],\n",
    "    [0.9366533358891805, 0.1624182015657425],\n",
    "    [0.9366117715835571, 0.15966655313968658],\n",
    "    [0.9373950362205505, 0.1600065976381302],\n",
    "    [0.9358641505241394, 0.1602543741464615],\n",
    "    [0.9375622868537903, 0.1589227318763733],\n",
    "    [0.933951755364736, 0.1641961932182312],\n",
    "    [0.9362029234568278, 0.16201548278331757],\n",
    "    [0.9359965324401855, 0.15938925743103027],\n",
    "    [0.937735358874003, 0.16180814802646637],\n",
    "]\n",
    "cat_res = np.array(cat_res)\n",
    "cat_res_loss = cat_res[:, 1]\n",
    "np.argsort(cat_res_loss), np.mean(cat_res[:,1]), np.mean(cat_res[:,0])"
   ]
  },
  {
   "cell_type": "code",
   "execution_count": 11,
   "metadata": {},
   "outputs": [
    {
     "data": {
      "text/plain": [
       "(array([5, 3, 6, 4, 2, 8, 0, 7, 1, 9]), 0.1578880950808525, 0.9370195766290029)"
      ]
     },
     "execution_count": 11,
     "metadata": {},
     "output_type": "execute_result"
    }
   ],
   "source": [
    "se_res = [\n",
    "    [0.9371674855550131, 0.15867383778095245],\n",
    "    [0.9373257160186768, 0.15898078680038452],\n",
    "    [0.9372979998588562, 0.15806789696216583],\n",
    "    [0.9378480513890585, 0.1569475680589676],\n",
    "    [0.9371063113212585, 0.1576402485370636],\n",
    "    [0.9380383094151815, 0.15499703586101532],\n",
    "    [0.934656043847402, 0.15733158588409424],\n",
    "    [0.9369109471638998, 0.1587478369474411],\n",
    "    [0.9366490642229716, 0.1584760695695877],\n",
    "    [0.9371958374977112, 0.15901808440685272],\n",
    "]\n",
    "se_res = np.array(se_res)\n",
    "se_res_loss = se_res[:, 1]\n",
    "np.argsort(se_res_loss), np.mean(se_res_loss), np.mean(se_res[:, 0])"
   ]
  },
  {
   "cell_type": "code",
   "execution_count": 9,
   "metadata": {},
   "outputs": [
    {
     "data": {
      "text/plain": [
       "(array([5, 0, 4, 7, 3, 1, 9, 8, 2, 6]), 0.1608619824051857, 0.9364398399988811)"
      ]
     },
     "execution_count": 9,
     "metadata": {},
     "output_type": "execute_result"
    }
   ],
   "source": [
    "import numpy as np\n",
    "cat_res = [\n",
    "    [0.9372231960296631, 0.1587768793106079],\n",
    "    [0.9362248380978903, 0.1617080420255661],\n",
    "    [0.9358292818069458, 0.1636129766702652],\n",
    "    [0.9368566274642944, 0.16079123318195343],\n",
    "    [0.9361645181973776, 0.15938310325145721],\n",
    "    [0.9376281897226969, 0.1554555892944336],\n",
    "    [0.9376836617787679, 0.1641961932182312],\n",
    "    [0.9357333381970724, 0.1603342741727829],\n",
    "    [0.9351005156834921, 0.1624642163515091],\n",
    "    [0.93595423301061, 0.16189731657505035],\n",
    "]\n",
    "cat_res = np.array(cat_res)\n",
    "cat_res_loss = cat_res[:, 1]\n",
    "np.argsort(cat_res_loss), np.mean(cat_res[:,1]), np.mean(cat_res[:,0])"
   ]
  },
  {
   "cell_type": "code",
   "execution_count": 2,
   "metadata": {},
   "outputs": [
    {
     "name": "stdout",
     "output_type": "stream",
     "text": [
      "param num 12767233\n",
      "param num 21159937\n"
     ]
    }
   ],
   "source": [
    "from model.attr_mlp import (\n",
    "    FinalCatModel,\n",
    "    FinalSeAttrIdMatch,\n",
    ")\n",
    "\n",
    "model = FinalCatModel(attr_num=80)\n",
    "print(\"param num\", sum(param.numel() for param in model.parameters()))\n",
    "\n",
    "model = FinalSeAttrIdMatch(attr_num=80)\n",
    "print(\"param num\", sum(param.numel() for param in model.parameters()))"
   ]
  },
  {
   "cell_type": "code",
   "execution_count": null,
   "metadata": {},
   "outputs": [],
   "source": []
  },
  {
   "cell_type": "code",
   "execution_count": 3,
   "metadata": {},
   "outputs": [
    {
     "data": {
      "text/plain": [
       "169635850"
      ]
     },
     "execution_count": 3,
     "metadata": {},
     "output_type": "execute_result"
    }
   ],
   "source": [
    "(21159937+12767233)*5"
   ]
  },
  {
   "cell_type": "code",
   "execution_count": 22,
   "metadata": {},
   "outputs": [
    {
     "data": {
      "text/plain": [
       "0.8444218515250481"
      ]
     },
     "execution_count": 22,
     "metadata": {},
     "output_type": "execute_result"
    }
   ],
   "source": [
    "import numpy as np\n",
    "np.random.seed(0)\n",
    "import random\n",
    "random.seed(0)\n",
    "random.random()"
   ]
  },
  {
   "cell_type": "code",
   "execution_count": 9,
   "metadata": {},
   "outputs": [
    {
     "data": {
      "text/plain": [
       "0.3294313382419294"
      ]
     },
     "execution_count": 9,
     "metadata": {},
     "output_type": "execute_result"
    }
   ],
   "source": [
    "import random\n",
    "random.random()"
   ]
  },
  {
   "cell_type": "code",
   "execution_count": null,
   "metadata": {},
   "outputs": [],
   "source": [
    "from torch.utils.data import Dataset, DataLoader\n",
    "\n",
    "\n",
    "class AttrIdMatchDataset(Dataset):\n",
    "    def __init__(self, data):\n",
    "        self.data = data\n",
    "\n",
    "    def __len__(self):\n",
    "        return len(self.data)\n",
    "\n",
    "    def __getitem__(self, idx):\n",
    "        item = self.data[idx]\n",
    "        res = random.sample(item, 1)[0]\n",
    "        return res\n",
    "\n",
    "data = np.arange(10)"
   ]
  }
 ],
 "metadata": {
  "interpreter": {
   "hash": "a7cf278074aea429de13d88b394304564a7b018f3e18e13089daf4fad90abe0d"
  },
  "kernelspec": {
   "display_name": "Python 3.8.3 ('base')",
   "language": "python",
   "name": "python3"
  },
  "language_info": {
   "codemirror_mode": {
    "name": "ipython",
    "version": 3
   },
   "file_extension": ".py",
   "mimetype": "text/x-python",
   "name": "python",
   "nbconvert_exporter": "python",
   "pygments_lexer": "ipython3",
   "version": "3.8.3"
  },
  "orig_nbformat": 4
 },
 "nbformat": 4,
 "nbformat_minor": 2
}
