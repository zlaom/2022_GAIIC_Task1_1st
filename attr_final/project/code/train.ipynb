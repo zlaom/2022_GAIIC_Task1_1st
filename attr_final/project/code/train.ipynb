{
 "cells": [
  {
   "cell_type": "code",
   "execution_count": 14,
   "metadata": {},
   "outputs": [
    {
     "name": "stdout",
     "output_type": "stream",
     "text": [
      "开始训练数据预处理\n",
      "preprocess fine data\n",
      "50000it [01:10, 713.18it/s]\n",
      "preprocess coarse data\n",
      "100000it [02:24, 692.95it/s]\n",
      "89588\n",
      "10412\n",
      "训练数据预处理结束耗时：236.95709991455078s\n"
     ]
    }
   ],
   "source": [
    "# 训练数据预处理\n",
    "!python attr_data_preprocess.py"
   ]
  },
  {
   "cell_type": "code",
   "execution_count": 15,
   "metadata": {},
   "outputs": [
    {
     "name": "stdout",
     "output_type": "stream",
     "text": [
      "属性关系字典生成\n",
      "属性关键字典生成结束：0.014353752136230469s\n"
     ]
    }
   ],
   "source": [
    "# 生成关系字典\n",
    "!python attr_generate_attr_relation_dict.py"
   ]
  },
  {
   "cell_type": "code",
   "execution_count": 16,
   "metadata": {},
   "outputs": [
    {
     "name": "stdout",
     "output_type": "stream",
     "text": [
      "开始测试数据预处理\n",
      "preprocess test data\n",
      "4000it [00:05, 722.69it/s]\n",
      "4000\n",
      "测试数据预处理结束耗时：5.823046922683716s\n"
     ]
    }
   ],
   "source": [
    "# 测试数据预处理\n",
    "!python attr_test_data_preprocess.py"
   ]
  },
  {
   "cell_type": "code",
   "execution_count": 19,
   "metadata": {},
   "outputs": [
    {
     "name": "stdout",
     "output_type": "stream",
     "text": [
      "Begin Train\n",
      "End Train\n"
     ]
    }
   ],
   "source": [
    "# 属性训练\n",
    "!sh train_kfold_cat_attr_matching.sh"
   ]
  },
  {
   "cell_type": "code",
   "execution_count": 12,
   "metadata": {},
   "outputs": [
    {
     "name": "stdout",
     "output_type": "stream",
     "text": [
      "loss\n",
      "model num 2\n",
      "4000it [00:15, 257.67it/s]\n",
      "pos_num: 4463\n"
     ]
    }
   ],
   "source": [
    "# 属性测试\n",
    "!python test_kfold_attr_matching.py --gpu 0 --fold_num 2"
   ]
  }
 ],
 "metadata": {
  "interpreter": {
   "hash": "a7cf278074aea429de13d88b394304564a7b018f3e18e13089daf4fad90abe0d"
  },
  "kernelspec": {
   "display_name": "Python 3.8.3 ('base')",
   "language": "python",
   "name": "python3"
  },
  "language_info": {
   "codemirror_mode": {
    "name": "ipython",
    "version": 3
   },
   "file_extension": ".py",
   "mimetype": "text/x-python",
   "name": "python",
   "nbconvert_exporter": "python",
   "pygments_lexer": "ipython3",
   "version": "3.8.3"
  },
  "orig_nbformat": 4
 },
 "nbformat": 4,
 "nbformat_minor": 2
}
