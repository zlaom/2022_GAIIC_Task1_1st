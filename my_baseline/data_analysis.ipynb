{
 "cells": [
  {
   "cell_type": "code",
   "execution_count": 6,
   "metadata": {},
   "outputs": [
    {
     "name": "stdout",
     "output_type": "stream",
     "text": [
      "hello\n"
     ]
    }
   ],
   "source": [
    "print('hello')"
   ]
  },
  {
   "cell_type": "code",
   "execution_count": 7,
   "metadata": {},
   "outputs": [],
   "source": [
    "# coarse 10w\n",
    "# fine 5w\n",
    "# test A 4000\n",
    "# test B 1W\n"
   ]
  },
  {
   "cell_type": "code",
   "execution_count": 9,
   "metadata": {},
   "outputs": [],
   "source": [
    "import tqdm\n",
    "import json\n",
    "file = '../data/train/train_fine.txt'\n",
    "data = []\n",
    "with open(file, 'r', encoding=\"utf-8\") as f:\n",
    "    for line in f:\n",
    "        item = json.loads(line)\n",
    "        if item['match']['图文']:\n",
    "            data.append(item)"
   ]
  },
  {
   "cell_type": "code",
   "execution_count": 11,
   "metadata": {},
   "outputs": [],
   "source": [
    "# 图文匹配 且属性全匹配的概率\n",
    "import numpy as np\n",
    "text = []\n",
    "attr = []\n",
    "mean = []\n",
    "for item in data:\n",
    "    attr_flag = []\n",
    "    for key, val in item[\"match\"].items():\n",
    "        if key == \"图文\":\n",
    "            text.append(val)\n",
    "        else:\n",
    "            attr_flag.append(val)\n",
    "    attr.append(attr_flag)\n",
    "    mean.append(np.mean(attr_flag))"
   ]
  },
  {
   "cell_type": "code",
   "execution_count": 15,
   "metadata": {},
   "outputs": [
    {
     "data": {
      "text/plain": [
       "50000"
      ]
     },
     "execution_count": 15,
     "metadata": {},
     "output_type": "execute_result"
    }
   ],
   "source": [
    "text = np.array(text)\n",
    "mean = np.array(mean, dtype=np.int32)\n",
    "np.sum(text==mean)"
   ]
  },
  {
   "cell_type": "code",
   "execution_count": 16,
   "metadata": {},
   "outputs": [
    {
     "data": {
      "text/plain": [
       "50000"
      ]
     },
     "execution_count": 16,
     "metadata": {},
     "output_type": "execute_result"
    }
   ],
   "source": [
    "np.sum(text)"
   ]
  },
  {
   "cell_type": "code",
   "execution_count": 24,
   "metadata": {},
   "outputs": [],
   "source": [
    "import json\n",
    "file = '../data/train/train_coarse.txt'\n",
    "data_coarse = []\n",
    "with open(file, 'r', encoding=\"utf-8\") as f:\n",
    "    for line in f:\n",
    "        item = json.loads(line)\n",
    "        data_coarse.append(item)"
   ]
  },
  {
   "cell_type": "code",
   "execution_count": 25,
   "metadata": {},
   "outputs": [],
   "source": [
    "# 图文匹配 且属性全匹配的概率\n",
    "import numpy as np\n",
    "text_coarse = []\n",
    "for item in data_coarse:\n",
    "    attr_flag = []\n",
    "    for key, val in item[\"match\"].items():\n",
    "        if key == \"图文\":\n",
    "            text_coarse.append(val)"
   ]
  },
  {
   "cell_type": "code",
   "execution_count": 26,
   "metadata": {},
   "outputs": [
    {
     "data": {
      "text/plain": [
       "(89588, 100000, 100000)"
      ]
     },
     "execution_count": 26,
     "metadata": {},
     "output_type": "execute_result"
    }
   ],
   "source": [
    "np.sum(text_coarse), len(text_coarse), len(data_coarse)"
   ]
  },
  {
   "cell_type": "code",
   "execution_count": null,
   "metadata": {},
   "outputs": [],
   "source": []
  }
 ],
 "metadata": {
  "interpreter": {
   "hash": "9d34bd894811656019bcd6ffbc115276d59947de0c7e22d2403d7817a69ca44b"
  },
  "kernelspec": {
   "display_name": "Python 3.6.13 ('open_clip')",
   "language": "python",
   "name": "python3"
  },
  "language_info": {
   "codemirror_mode": {
    "name": "ipython",
    "version": 3
   },
   "file_extension": ".py",
   "mimetype": "text/x-python",
   "name": "python",
   "nbconvert_exporter": "python",
   "pygments_lexer": "ipython3",
   "version": "3.8.12"
  },
  "orig_nbformat": 4
 },
 "nbformat": 4,
 "nbformat_minor": 2
}
