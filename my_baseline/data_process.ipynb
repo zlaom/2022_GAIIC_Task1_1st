{
 "cells": [
  {
   "cell_type": "code",
   "execution_count": 2,
   "metadata": {},
   "outputs": [],
   "source": [
    "import re\n",
    "import json\n",
    "import torch\n",
    "import numpy as np\n",
    "from tqdm import tqdm \n",
    "import itertools\n",
    "\n",
    "def load_attr_dict(file):\n",
    "    # 读取属性字典\n",
    "    with open(file, 'r') as f:\n",
    "        attr_dict = {}\n",
    "        for attr, attrval_list in json.load(f).items():\n",
    "            attrval_list = list(map(lambda x: x.split('='), attrval_list))\n",
    "            attr_dict[attr] = list(itertools.chain.from_iterable(attrval_list))\n",
    "    return attr_dict\n",
    "\n",
    "def match_attrval(title, attr, attr_dict):\n",
    "    # 在title中匹配属性值\n",
    "    attrvals = \"|\".join(attr_dict[attr])\n",
    "    ret = re.findall(attrvals, title)\n",
    "    # return \"{}{}\".format(attr, ''.join(ret))\n",
    "    return \"{}\".format(''.join(ret))  \n",
    "\n",
    "# load attribute dict\n",
    "attr_dict_file = \"../data/attr_to_attrvals.json\"\n",
    "attr_dict = load_attr_dict(attr_dict_file)"
   ]
  },
  {
   "cell_type": "code",
   "execution_count": 26,
   "metadata": {},
   "outputs": [
    {
     "data": {
      "text/plain": [
       "(80, 78)"
      ]
     },
     "execution_count": 26,
     "metadata": {},
     "output_type": "execute_result"
    }
   ],
   "source": [
    "attr_list = []\n",
    "for item in attr_dict.values():\n",
    "    attr_list+=item\n",
    "len(attr_list), len(list(set(attr_list)))"
   ]
  },
  {
   "cell_type": "code",
   "execution_count": 19,
   "metadata": {},
   "outputs": [
    {
     "name": "stderr",
     "output_type": "stream",
     "text": [
      "50000it [01:37, 512.80it/s]\n"
     ]
    }
   ],
   "source": [
    "# remove years [fine]\n",
    "fine_data = '../data/train_fine.txt'\n",
    "new_fine_data = '../data/processed_data/train_fine_noyear.txt'\n",
    "\n",
    "rets = []\n",
    "i = 0\n",
    "with open(fine_data, 'r') as f:\n",
    "    for i, data in enumerate(tqdm(f)):\n",
    "        data = json.loads(data)\n",
    "        title = data['title']\n",
    "        title = re.sub(r'\\d{1,4}年','', title)\n",
    "        data['title'] = title\n",
    "        \n",
    "        rets.append(json.dumps(data, ensure_ascii=False)+'\\n')\n",
    "        \n",
    "with open(new_fine_data, 'w') as f:\n",
    "    f.writelines(rets)"
   ]
  },
  {
   "cell_type": "code",
   "execution_count": 31,
   "metadata": {},
   "outputs": [
    {
     "name": "stderr",
     "output_type": "stream",
     "text": [
      "100000it [03:13, 516.96it/s]\n"
     ]
    }
   ],
   "source": [
    "# remove years and get attributes [coarse]\n",
    "# 裤门襟和鞋带的属性有重合，所以需要额外的判断机制\n",
    "coarse_data = '../data/train_coarse.txt'\n",
    "new_coarse_data = '../data/processed_data/coarse_fine_noyear.txt'\n",
    "\n",
    "rets = []\n",
    "querys = attr_dict.keys()\n",
    "i = 0\n",
    "with open(coarse_data, 'r') as f:\n",
    "    for i, data in enumerate(tqdm(f)):\n",
    "        data = json.loads(data)\n",
    "        title = data['title']\n",
    "        title = re.sub(r'\\d{1,4}年','', title)\n",
    "        data['title'] = title\n",
    "        \n",
    "        if data['match']['图文'] == 1:\n",
    "            for query in querys:\n",
    "                values = attr_dict[query]\n",
    "                if (query == '裤门襟') and ('裤' not in title):\n",
    "                    continue\n",
    "                if (query == '闭合方式') and ('裤' in title):\n",
    "                    continue\n",
    "                for value in values:\n",
    "                    if value in title:\n",
    "                        data['key_attr'][query] = value\n",
    "                        data['match'][query] = 1\n",
    "                    \n",
    "        rets.append(json.dumps(data, ensure_ascii=False)+'\\n')     \n",
    "        \n",
    "with open(new_coarse_data, 'w') as f:\n",
    "    f.writelines(rets)"
   ]
  },
  {
   "cell_type": "code",
   "execution_count": 33,
   "metadata": {},
   "outputs": [
    {
     "data": {
      "text/plain": [
       "['V领', '圆领']"
      ]
     },
     "execution_count": 33,
     "metadata": {},
     "output_type": "execute_result"
    }
   ],
   "source": [
    "a = '领形是V领圆领'\n",
    "re.findall('V领|圆领',a)"
   ]
  }
 ],
 "metadata": {
  "interpreter": {
   "hash": "ab7a9148291449fc4391f360f086843f6cf18b6c2df8af6702dacf91b204e632"
  },
  "kernelspec": {
   "display_name": "Python 3.8.8 ('base')",
   "language": "python",
   "name": "python3"
  },
  "language_info": {
   "codemirror_mode": {
    "name": "ipython",
    "version": 3
   },
   "file_extension": ".py",
   "mimetype": "text/x-python",
   "name": "python",
   "nbconvert_exporter": "python",
   "pygments_lexer": "ipython3",
   "version": "3.8.12"
  },
  "orig_nbformat": 4
 },
 "nbformat": 4,
 "nbformat_minor": 2
}
