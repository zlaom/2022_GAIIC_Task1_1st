{
 "cells": [
  {
   "cell_type": "code",
   "execution_count": 41,
   "metadata": {},
   "outputs": [],
   "source": [
    "from scipy.optimize import minimize\n",
    "import math\n",
    "import numpy as np\n"
   ]
  },
  {
   "cell_type": "code",
   "execution_count": 60,
   "metadata": {},
   "outputs": [],
   "source": [
    "def info_entropy(p, num_list):\n",
    "    S = sum(num_list)\n",
    "    N = len(num_list)\n",
    "    Entropy = 0\n",
    "    for n in num_list:\n",
    "        n_pos = n*(1-p)\n",
    "        n_neg = (S-n)*p/(N-1)\n",
    "        P_pos = n_pos / (n_pos + n_neg)\n",
    "        P_neg = n_neg / (n_pos + n_neg)\n",
    "        Ei = - P_pos * math.log(P_pos, 2) - P_neg * math.log(P_neg, 2)\n",
    "        # print(Ri)\n",
    "        Pi = n / S # proba\n",
    "        # print(Pi)\n",
    "        Entropy = Entropy + Pi * Ei\n",
    "        \n",
    "    return -Entropy"
   ]
  },
  {
   "cell_type": "code",
   "execution_count": 76,
   "metadata": {},
   "outputs": [],
   "source": [
    "p0 = [0.5]\n",
    "num_list = [10, 20, 30, 40, 90, 2]\n",
    "cons = ({'type': 'ineq',\n",
    "         'fun': lambda x: np.array([x[0]-0.01]),\n",
    "         'jac': lambda x: np.array([1.0])},\n",
    "        {'type': 'ineq',\n",
    "         'fun': lambda x: np.array([0.99-x[0]]),\n",
    "         'jac': lambda x: np.array([-1.0])})\n",
    "p = minimize(info_entropy, p0, args=(num_list), constraints=cons, method='SLSQP')"
   ]
  },
  {
   "cell_type": "code",
   "execution_count": 81,
   "metadata": {},
   "outputs": [],
   "source": [
    "import json \n",
    "\n",
    "attr_dict_file = 'data/equal_processed_data/attr_to_attrvals.json'\n",
    "vocab_dict_file = 'dataset/vocab/vocab_dict.json'\n",
    "with open(attr_dict_file, 'r') as f:\n",
    "    attr_dict = json.load(f)\n",
    "with open(vocab_dict_file, 'r') as f:\n",
    "    vocab_dict = json.load(f)\n",
    "def get_negative_dict(attr_dict, vocab_dict):\n",
    "    proba_negative_dict = {}\n",
    "    for query, attr_list in attr_dict.items():\n",
    "        proba_negative_dict[query] = {}\n",
    "        proba_negative_dict[query]['attr_list'] = attr_list\n",
    "        proba_list = []\n",
    "        for attr in attr_list:\n",
    "            proba_list.append(vocab_dict[attr])\n",
    "            proba_negative_dict[query]['attr_freq'] = proba_list\n",
    "            \n",
    "    return proba_negative_dict\n",
    "\n",
    "proba_negative_dict = get_negative_dict(attr_dict, vocab_dict)"
   ]
  },
  {
   "cell_type": "code",
   "execution_count": 86,
   "metadata": {},
   "outputs": [],
   "source": [
    "import copy \n",
    "from scipy.optimize import minimize\n",
    "import math\n",
    "import numpy as np\n",
    "\n",
    "dict_copy = copy.deepcopy(proba_negative_dict)\n",
    "for query, attr_dict in dict_copy.items():\n",
    "     num_list = attr_dict['attr_freq']\n",
    "     p0 = [0.5] # 注意函数p是负例生成概率\n",
    "     cons = ({'type': 'ineq',\n",
    "          'fun': lambda x: np.array([x[0]-0.01]),\n",
    "          'jac': lambda x: np.array([1.0])},\n",
    "          {'type': 'ineq',\n",
    "          'fun': lambda x: np.array([0.99-x[0]]),\n",
    "          'jac': lambda x: np.array([-1.0])})\n",
    "     p = minimize(info_entropy, p0, args=(num_list), constraints=cons, method='SLSQP')\n",
    "     proba_negative_dict[query]['entropy_proba'] = p.x.item()\n",
    "     "
   ]
  },
  {
   "cell_type": "code",
   "execution_count": 90,
   "metadata": {},
   "outputs": [],
   "source": [
    "attr_save_file = 'data/equal_processed_data/proba_negative_dict.json'\n",
    "with open(attr_save_file, 'w') as f:\n",
    "    json.dump(proba_negative_dict, f, ensure_ascii=False, indent=4)"
   ]
  }
 ],
 "metadata": {
  "kernelspec": {
   "display_name": "Python 3",
   "name": "python3"
  },
  "language_info": {
   "codemirror_mode": {
    "name": "ipython",
    "version": 3
   },
   "file_extension": ".py",
   "mimetype": "text/x-python",
   "name": "python",
   "nbconvert_exporter": "python",
   "pygments_lexer": "ipython3",
   "version": "3.9.7"
  },
  "orig_nbformat": 2
 },
 "nbformat": 4,
 "nbformat_minor": 2
}
