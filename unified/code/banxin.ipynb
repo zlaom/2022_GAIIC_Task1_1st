{
 "cells": [
  {
   "cell_type": "code",
   "execution_count": 2,
   "metadata": {},
   "outputs": [],
   "source": [
    "import json\n",
    "import numpy as np\n",
    "import random\n",
    "from tqdm import tqdm "
   ]
  },
  {
   "cell_type": "code",
   "execution_count": 3,
   "metadata": {},
   "outputs": [],
   "source": [
    "# 数据\n",
    "train_file = '../data/tmp_data/equal_processed_data/fine45000.txt,../data/tmp_data/equal_processed_data/coarse85000.txt'\n",
    "val_file = '../data/tmp_data/equal_processed_data/fine5000.txt,../data/tmp_data/equal_processed_data/coarse4588.txt'\n",
    "neg_attr_dict_file = '../data/tmp_data/equal_processed_data/neg_attr.json'\n",
    "attr_to_attrvals = '../data/tmp_data/equal_processed_data/attr_to_attrvals.json'\n",
    "key_attr = \"版型\""
   ]
  },
  {
   "cell_type": "code",
   "execution_count": 4,
   "metadata": {},
   "outputs": [],
   "source": [
    "with open(attr_to_attrvals, 'r') as f:\n",
    "    attr_to_attrvals = json.load(f)"
   ]
  },
  {
   "cell_type": "code",
   "execution_count": 5,
   "metadata": {},
   "outputs": [],
   "source": [
    "key_attr_values = attr_to_attrvals[key_attr]\n",
    "id_to_attr = {}\n",
    "attr_to_id = {}\n",
    "for attr_id, attr_v in enumerate(key_attr_values):\n",
    "    attr_to_id[attr_v] = attr_id\n",
    "    id_to_attr[attr_id] = attr_v"
   ]
  },
  {
   "cell_type": "code",
   "execution_count": 6,
   "metadata": {},
   "outputs": [],
   "source": [
    "with open(neg_attr_dict_file, 'r') as f:\n",
    "    neg_attr_dict = json.load(f)"
   ]
  },
  {
   "cell_type": "code",
   "execution_count": 7,
   "metadata": {},
   "outputs": [],
   "source": [
    "# 提取数据\n",
    "def get_data(file_path, key_attr):\n",
    "    X1 = []\n",
    "    X2 = []\n",
    "    Y = []\n",
    "    i = 0\n",
    "    for file in file_path.split(','):\n",
    "        with open(file, 'r') as f:\n",
    "            for line in tqdm(f):\n",
    "                item = json.loads(line)\n",
    "                if item['match']['图文']: # 训练集图文必须匹配\n",
    "                    if item['key_attr']: # 必须有属性\n",
    "                        # 生成所有离散属性\n",
    "                        for key, attr_value in item['key_attr'].items():\n",
    "                            # 只提取该类别\n",
    "                            if key == key_attr:\n",
    "                                # 删除title节省内存\n",
    "                                X1.append(item[\"feature\"])\n",
    "                                X2.append(attr_to_id[attr_value])\n",
    "                                Y.append(1)\n",
    "                                i+=1\n",
    "                                # # 生成同类负例\n",
    "                                # sample_attr_list = neg_attr_dict[attr_value][\"similar_attr\"]\n",
    "                                # attr_value = random.sample(sample_attr_list, k=1)[0]\n",
    "                                # X1.append(item[\"feature\"])\n",
    "                                # X2.append(attr_to_id[attr_value])\n",
    "                                # Y.append(0)\n",
    "                                # i+=1\n",
    "                # if i >500:\n",
    "                #     break\n",
    "\n",
    "    return np.array(X1), np.array(X2), np.array(Y)\n",
    "\n"
   ]
  },
  {
   "cell_type": "code",
   "execution_count": 8,
   "metadata": {},
   "outputs": [
    {
     "name": "stderr",
     "output_type": "stream",
     "text": [
      "45000it [00:17, 2624.52it/s]\n",
      "85000it [00:34, 2493.01it/s]\n"
     ]
    }
   ],
   "source": [
    "X_train1, X_train2, Y_train = get_data(train_file, key_attr)"
   ]
  },
  {
   "cell_type": "code",
   "execution_count": 9,
   "metadata": {},
   "outputs": [
    {
     "name": "stderr",
     "output_type": "stream",
     "text": [
      "5000it [00:01, 2711.67it/s]\n",
      "4588it [00:01, 2607.65it/s]\n"
     ]
    }
   ],
   "source": [
    "X_val1, X_val2, Y_val = get_data(val_file, key_attr)"
   ]
  },
  {
   "cell_type": "code",
   "execution_count": 10,
   "metadata": {},
   "outputs": [
    {
     "data": {
      "text/plain": [
       "((53126,), (3804,))"
      ]
     },
     "execution_count": 10,
     "metadata": {},
     "output_type": "execute_result"
    }
   ],
   "source": [
    "Y_train.shape, Y_val.shape"
   ]
  },
  {
   "cell_type": "code",
   "execution_count": 13,
   "metadata": {},
   "outputs": [],
   "source": [
    "import numpy as np\n",
    "from sklearn.pipeline import make_pipeline\n",
    "from sklearn.preprocessing import StandardScaler\n",
    "from sklearn.svm import SVC\n",
    "clf = make_pipeline(StandardScaler(), SVC(gamma='auto'))\n",
    "clf.fit(X_train1, X_train2)"
   ]
  },
  {
   "cell_type": "code",
   "execution_count": null,
   "metadata": {},
   "outputs": [],
   "source": []
  }
 ],
 "metadata": {
  "interpreter": {
   "hash": "a7cf278074aea429de13d88b394304564a7b018f3e18e13089daf4fad90abe0d"
  },
  "kernelspec": {
   "display_name": "Python 3.8.3 ('base')",
   "language": "python",
   "name": "python3"
  },
  "language_info": {
   "codemirror_mode": {
    "name": "ipython",
    "version": 3
   },
   "file_extension": ".py",
   "mimetype": "text/x-python",
   "name": "python",
   "nbconvert_exporter": "python",
   "pygments_lexer": "ipython3",
   "version": "3.8.3"
  },
  "orig_nbformat": 4
 },
 "nbformat": 4,
 "nbformat_minor": 2
}
