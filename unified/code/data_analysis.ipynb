{
 "cells": [
  {
   "cell_type": "code",
   "execution_count": 6,
   "metadata": {},
   "outputs": [
    {
     "name": "stderr",
     "output_type": "stream",
     "text": [
      "10412it [00:00, 133893.46it/s]\n",
      "89588it [00:00, 99781.14it/s] \n",
      "50000it [00:00, 96044.99it/s]\n"
     ]
    }
   ],
   "source": [
    "import json\n",
    "from tqdm import tqdm \n",
    "\n",
    "# 统计属性\n",
    "all_key_attribute = set()\n",
    "all_attribute = set()\n",
    "attr_num = []\n",
    "\n",
    "# 统计标题长度\n",
    "title_len= []\n",
    "\n",
    "files = [\n",
    "    '../data/equal_processed_data/nofeat/coarse10412.txt',\n",
    "    '../data/equal_processed_data/nofeat/coarse89588.txt',\n",
    "    '../data/equal_processed_data/nofeat/fine50000.txt'\n",
    "]\n",
    "\n",
    "for file in files:\n",
    "    with open(file, 'r') as f:\n",
    "        for i, line in enumerate(tqdm(f)):\n",
    "            item = json.loads(line)\n",
    "            title_len.append(len(item[\"title\"]))\n",
    "            attr_num.append(len(item[\"key_attr\"].keys()))\n",
    "            for key, value in item[\"key_attr\"].items():\n",
    "                all_key_attribute.add(f\"{key}-{value}\")\n",
    "                all_attribute.add(value)"
   ]
  },
  {
   "cell_type": "code",
   "execution_count": 7,
   "metadata": {},
   "outputs": [
    {
     "data": {
      "text/plain": [
       "(54, 54)"
      ]
     },
     "execution_count": 7,
     "metadata": {},
     "output_type": "execute_result"
    }
   ],
   "source": [
    "# 属性数量\n",
    "len(all_attribute), len(all_attribute)"
   ]
  },
  {
   "cell_type": "code",
   "execution_count": 8,
   "metadata": {},
   "outputs": [
    {
     "data": {
      "image/png": "[encoded data removed]",
      "text/plain": [
       "<Figure size 432x288 with 1 Axes>"
      ]
     },
     "metadata": {
      "needs_background": "light"
     },
     "output_type": "display_data"
    }
   ],
   "source": [
    "# 分析属性个数\n",
    "import matplotlib.pyplot as plt\n",
    "plt.hist(attr_num)\n",
    "plt.show()"
   ]
  },
  {
   "cell_type": "code",
   "execution_count": 9,
   "metadata": {},
   "outputs": [
    {
     "data": {
      "image/png": "[encoded data removed]",
      "text/plain": [
       "<Figure size 432x288 with 1 Axes>"
      ]
     },
     "metadata": {
      "needs_background": "light"
     },
     "output_type": "display_data"
    }
   ],
   "source": [
    "# title长度\n",
    "import matplotlib.pyplot as plt\n",
    "plt.hist(title_len)\n",
    "plt.show()"
   ]
  },
  {
   "cell_type": "code",
   "execution_count": 2,
   "metadata": {},
   "outputs": [
    {
     "data": {
      "text/plain": [
       "2"
      ]
     },
     "execution_count": 2,
     "metadata": {},
     "output_type": "execute_result"
    }
   ],
   "source": [
    "import random\n",
    "a = [1,2,3,4,5]\n",
    "b= random.sample(a, k=1)[0]\n",
    "b"
   ]
  },
  {
   "cell_type": "code",
   "execution_count": 7,
   "metadata": {},
   "outputs": [],
   "source": [
    "train_count_num = {\n",
    "    '裤型': 13757, \n",
    "    '裤长': 16962, \n",
    "    '版型': 53125, \n",
    "    '穿着方式': 17379, \n",
    "    '袖长': 40655, \n",
    "    '领型': 57112, \n",
    "    '衣长': 43926, \n",
    "    '裤门襟': 5172, \n",
    "    '闭合方式': 12874, \n",
    "    '鞋帮高度': 14501, \n",
    "    '裙长': 1331, \n",
    "    '类别': 4010\n",
    "}"
   ]
  },
  {
   "cell_type": "code",
   "execution_count": 1,
   "metadata": {},
   "outputs": [],
   "source": [
    "val_count_num = {\n",
    "    '类别': 314, \n",
    "    '闭合方式': 1114, \n",
    "    '鞋帮高度': 1225, \n",
    "    '穿着方式': 1199, \n",
    "    '领型': 4218, \n",
    "    '裤型': 1045, \n",
    "    '裤长': 1280, \n",
    "    '衣长': 3100, \n",
    "    '版型': 3803, \n",
    "    '袖长': 2913, \n",
    "    '裤门襟': 406, \n",
    "    '裙长': 94\n",
    "    }"
   ]
  },
  {
   "cell_type": "code",
   "execution_count": 5,
   "metadata": {},
   "outputs": [],
   "source": [
    "val_acc = {\n",
    "    '类别': 0.9651, \n",
    "    '闭合方式': 0.9901, \n",
    "    '鞋帮高度': 0.9274, \n",
    "    '穿着方式': 0.9867, \n",
    "    '领型': 0.9585, \n",
    "    '裤型': 0.9474, \n",
    "    '裤长': 0.9984, \n",
    "    '衣长': 0.9381, \n",
    "    '版型': 0.8368, \n",
    "    '袖长': 0.9870, \n",
    "    '裤门襟': 0.9287, \n",
    "    '裙长': 0.9579\n",
    "}"
   ]
  },
  {
   "cell_type": "code",
   "execution_count": 10,
   "metadata": {},
   "outputs": [
    {
     "data": {
      "text/plain": [
       "0.9400200521462023"
      ]
     },
     "execution_count": 10,
     "metadata": {},
     "output_type": "execute_result"
    }
   ],
   "source": [
    "correct_num = 0\n",
    "all_num =0\n",
    "for key in val_acc.keys():\n",
    "    correct_num+=val_count_num[key]*val_acc[key]\n",
    "    all_num+=val_count_num[key]\n",
    "acc = correct_num/all_num\n",
    "acc"
   ]
  },
  {
   "cell_type": "code",
   "execution_count": 6,
   "metadata": {},
   "outputs": [],
   "source": [
    "drop0d5_val_acc = {\n",
    "    '类别': 0.9619,\n",
    "    '闭合方式': 0.9919, \n",
    "    '鞋帮高度': 0.9347, \n",
    "    '穿着方式': 0.9850, \n",
    "    '领型': 0.9554, \n",
    "    '裤型': 0.9455, \n",
    "    '裤长': 0.9984, \n",
    "    '衣长': 0.9419, \n",
    "    '版型': 0.8407, \n",
    "    '袖长': 0.9876, \n",
    "    '裤门襟': 0.9337, \n",
    "    '裙长': 0.9474, \n",
    "}"
   ]
  },
  {
   "cell_type": "code",
   "execution_count": 14,
   "metadata": {},
   "outputs": [
    {
     "data": {
      "text/plain": [
       "0.941094157693979"
      ]
     },
     "execution_count": 14,
     "metadata": {},
     "output_type": "execute_result"
    }
   ],
   "source": [
    "correct_num = 0\n",
    "all_num =0\n",
    "for key in drop0d5_val_acc.keys():\n",
    "    correct_num+=val_count_num[key]*drop0d5_val_acc[key]\n",
    "    all_num+=val_count_num[key]\n",
    "acc = correct_num/all_num\n",
    "acc"
   ]
  },
  {
   "cell_type": "code",
   "execution_count": 1,
   "metadata": {},
   "outputs": [],
   "source": [
    "simple_drop0d5_val_acc = {\n",
    "    '类别': 0.9651,\n",
    "    '闭合方式': 0.9883, \n",
    "    '鞋帮高度': 0.9299, \n",
    "    '穿着方式': 0.9858, \n",
    "    '领型': 0.9590, \n",
    "    '裤型': 0.9465, \n",
    "    '裤长': 0.9992, \n",
    "    '衣长': 0.9423, \n",
    "    '版型': 0.8394, \n",
    "    '袖长': 0.9883, \n",
    "    '裤门襟': 0.9386, \n",
    "    '裙长': 0.9579, \n",
    "}"
   ]
  },
  {
   "cell_type": "code",
   "execution_count": 4,
   "metadata": {},
   "outputs": [
    {
     "data": {
      "text/plain": [
       "0.9416078460721357"
      ]
     },
     "execution_count": 4,
     "metadata": {},
     "output_type": "execute_result"
    }
   ],
   "source": [
    "correct_num = 0\n",
    "all_num =0\n",
    "for key in simple_drop0d5_val_acc.keys():\n",
    "    correct_num+=val_count_num[key]*simple_drop0d5_val_acc[key]\n",
    "    all_num+=val_count_num[key]\n",
    "acc = correct_num/all_num\n",
    "acc"
   ]
  },
  {
   "cell_type": "code",
   "execution_count": 7,
   "metadata": {},
   "outputs": [],
   "source": [
    "# 版型用传统分类方式\n",
    "simple_drop0d5_val_acc = {\n",
    "    '类别': 0.9651,\n",
    "    '闭合方式': 0.9883, \n",
    "    '鞋帮高度': 0.9299, \n",
    "    '穿着方式': 0.9858, \n",
    "    '领型': 0.9590, \n",
    "    '裤型': 0.9465, \n",
    "    '裤长': 0.9992, \n",
    "    '衣长': 0.9423, \n",
    "    '版型': 0.8433, \n",
    "    '袖长': 0.9883, \n",
    "    '裤门襟': 0.9386, \n",
    "    '裙长': 0.9579, \n",
    "}"
   ]
  },
  {
   "cell_type": "code",
   "execution_count": 10,
   "metadata": {},
   "outputs": [
    {
     "data": {
      "text/plain": [
       "0.9423239727680942"
      ]
     },
     "execution_count": 10,
     "metadata": {},
     "output_type": "execute_result"
    }
   ],
   "source": [
    "correct_num = 0\n",
    "all_num =0\n",
    "for key in simple_drop0d5_val_acc.keys():\n",
    "    correct_num+=val_count_num[key]*simple_drop0d5_val_acc[key]\n",
    "    all_num+=val_count_num[key]\n",
    "acc = correct_num/all_num\n",
    "acc"
   ]
  },
  {
   "cell_type": "code",
   "execution_count": 9,
   "metadata": {},
   "outputs": [
    {
     "data": {
      "text/plain": [
       "0.9428990295012312"
      ]
     },
     "execution_count": 9,
     "metadata": {},
     "output_type": "execute_result"
    }
   ],
   "source": [
    "correct_num = 0\n",
    "all_num =0\n",
    "for key in simple_drop0d5_val_acc.keys():\n",
    "    correct_num+=val_count_num[key]*max(simple_drop0d5_val_acc[key], drop0d5_val_acc[key], val_acc[key])\n",
    "    all_num+=val_count_num[key]\n",
    "acc = correct_num/all_num\n",
    "acc"
   ]
  }
 ],
 "metadata": {
  "interpreter": {
   "hash": "bb7d2f5729f1e0a7e12170a02d1f1504acb79fd505be6152af5e4a74a6a82fc8"
  },
  "kernelspec": {
   "display_name": "Python 3.9.12 ('gaiic2022')",
   "language": "python",
   "name": "python3"
  },
  "language_info": {
   "codemirror_mode": {
    "name": "ipython",
    "version": 3
   },
   "file_extension": ".py",
   "mimetype": "text/x-python",
   "name": "python",
   "nbconvert_exporter": "python",
   "pygments_lexer": "ipython3",
   "version": "3.8.3"
  },
  "orig_nbformat": 4
 },
 "nbformat": 4,
 "nbformat_minor": 2
}
