{
 "cells": [
  {
   "cell_type": "code",
   "execution_count": 2,
   "metadata": {},
   "outputs": [],
   "source": [
    "import json\n",
    "import random \n",
    "from tqdm import tqdm \n",
    "\n",
    "# 用来生成负样本的字典\n",
    "with open('../data/preprocessed_data/unit_neg_sample_dict.json', 'r', encoding='utf-8') as f:\n",
    "    unit_neg_sample_dict = json.load(f)"
   ]
  },
  {
   "cell_type": "code",
   "execution_count": 3,
   "metadata": {},
   "outputs": [
    {
     "name": "stderr",
     "output_type": "stream",
     "text": [
      "5000it [00:20, 249.30it/s]\n"
     ]
    },
    {
     "name": "stdout",
     "output_type": "stream",
     "text": [
      "10932\n"
     ]
    }
   ],
   "source": [
    "# 对每个属性分离成一个样本\n",
    "fine_val_path = '../data/preprocessed_data/unit_train_fine5000.txt'\n",
    "\n",
    "attr_val_path = '../data/preprocessed_data/unit_attribute_val_fine.txt'\n",
    "\n",
    "val_rets = []\n",
    "\n",
    "with open(fine_val_path, 'r') as f:\n",
    "    for i, data in enumerate(tqdm(f)):\n",
    "        data = json.loads(data)\n",
    "        if data['key_attr']:\n",
    "            for query, attr in data['key_attr'].items():\n",
    "                new_data = {}\n",
    "                new_data['img_name'] = data['img_name']\n",
    "                new_data['title'] = data['title']\n",
    "                new_data['key_attr'] = {}\n",
    "                new_data['match'] = {}\n",
    "                new_data['match']['图文'] = 1\n",
    "                new_data['feature'] = data['feature']\n",
    "                if random.random() > 0.5:\n",
    "                    new_data['key_attr'][query] = random.sample(unit_neg_sample_dict[f'{query}-{attr}'], 1)[0]\n",
    "                    new_data['match'][query] = 0\n",
    "                val_rets.append(json.dumps(new_data, ensure_ascii=False)+'\\n')\n",
    "            \n",
    "        # if i>500:\n",
    "        #     break\n",
    "        # i += 1\n",
    "        \n",
    "\n",
    "print(len(val_rets))\n",
    "\n",
    "\n",
    "with open(attr_val_path, 'w') as f:\n",
    "    f.writelines(val_rets)"
   ]
  }
 ],
 "metadata": {
  "interpreter": {
   "hash": "ffecc6863b179ac325a03b10c2e07d1c89fd08b04c6c433c13a0104bac5f863f"
  },
  "kernelspec": {
   "display_name": "Python 3.8.12 ('mae')",
   "language": "python",
   "name": "python3"
  },
  "language_info": {
   "codemirror_mode": {
    "name": "ipython",
    "version": 3
   },
   "file_extension": ".py",
   "mimetype": "text/x-python",
   "name": "python",
   "nbconvert_exporter": "python",
   "pygments_lexer": "ipython3",
   "version": "3.8.12"
  },
  "orig_nbformat": 4
 },
 "nbformat": 4,
 "nbformat_minor": 2
}
