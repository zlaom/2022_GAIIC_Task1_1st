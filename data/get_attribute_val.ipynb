{
 "cells": [
  {
   "cell_type": "code",
   "execution_count": 3,
   "metadata": {},
   "outputs": [],
   "source": [
    "import os\n",
    "import itertools\n",
    "import torch \n",
    "import json\n",
    "import numpy as np \n",
    "import random \n",
    "from tqdm import tqdm \n",
    "\n",
    "\n",
    "# 用来生成负样本的字典\n",
    "def get_negative_dict(file):\n",
    "    with open(file, 'r') as f:\n",
    "        new_dict = {}\n",
    "        for attr, attrval_list in json.load(f).items():\n",
    "            attr_dict = {}\n",
    "            new_dict[attr] = attr_dict\n",
    "            for x in attrval_list:\n",
    "                l = attrval_list.copy()\n",
    "                l.remove(x)\n",
    "                x = x.split('=')\n",
    "                l_noequal = list(map(lambda x: x.split('='), l))\n",
    "                for k in x:\n",
    "                    attr_dict[k] = list(itertools.chain.from_iterable(l_noequal))\n",
    "    return new_dict\n",
    "\n",
    "attr_dict_file = \"original_data/attr_to_attrvals.json\"\n",
    "negative_dict = get_negative_dict(attr_dict_file)\n",
    "\n",
    "# 用来生成正样本的数据增强字典\n",
    "def get_positive_dict(file):\n",
    "    with open(file, 'r') as f:\n",
    "        new_dict = {}\n",
    "        for attr, attrval_list in json.load(f).items():\n",
    "            attr_dict = {}\n",
    "            new_dict[attr] = attr_dict\n",
    "            for x in attrval_list:\n",
    "                x = x.split('=')\n",
    "                for k in x:\n",
    "                    attr_dict[k] = x\n",
    "    return new_dict\n",
    "attr_dict_file = \"original_data/attr_to_attrvals.json\"\n",
    "positive_dict = get_positive_dict(attr_dict_file)"
   ]
  },
  {
   "cell_type": "code",
   "execution_count": 5,
   "metadata": {},
   "outputs": [
    {
     "name": "stderr",
     "output_type": "stream",
     "text": [
      "5000it [00:10, 469.84it/s]\n"
     ]
    },
    {
     "name": "stdout",
     "output_type": "stream",
     "text": [
      "10932\n"
     ]
    }
   ],
   "source": [
    "# 对每个属性分离成一个样本\n",
    "fine_val_path = 'val/fine5000.txt'\n",
    "\n",
    "attr_val_path = 'val/attribute_val.txt'\n",
    "\n",
    "val_rets = []\n",
    "\n",
    "with open(fine_val_path, 'r') as f:\n",
    "    for i, data in enumerate(tqdm(f)):\n",
    "        data = json.loads(data)\n",
    "        if data['key_attr']:\n",
    "            for query, attr in data['key_attr'].items():\n",
    "                new_data = {}\n",
    "                new_data['img_name'] = data['img_name']\n",
    "                new_data['title'] = data['title']\n",
    "                new_data['key_attr'] = {}\n",
    "                new_data['match'] = {}\n",
    "                new_data['match']['图文'] = 1\n",
    "                new_data['feature'] = data['feature']\n",
    "                if random.random() > 0.5:\n",
    "                    new_data['key_attr'][query] = random.sample(negative_dict[query][attr], 1)[0]\n",
    "                    new_data['match'][query] = 0\n",
    "                else:\n",
    "                    new_data['key_attr'][query] = random.sample(positive_dict[query][attr], 1)[0]\n",
    "                    new_data['match'][query] = 1\n",
    "                    \n",
    "                val_rets.append(json.dumps(new_data, ensure_ascii=False)+'\\n')\n",
    "            \n",
    "        # if i>500:\n",
    "        #     break\n",
    "        # i += 1\n",
    "        \n",
    "\n",
    "print(len(val_rets))\n",
    "\n",
    "\n",
    "with open(attr_val_path, 'w') as f:\n",
    "    f.writelines(val_rets)"
   ]
  },
  {
   "cell_type": "code",
   "execution_count": null,
   "metadata": {},
   "outputs": [],
   "source": []
  }
 ],
 "metadata": {
  "interpreter": {
   "hash": "a7cf278074aea429de13d88b394304564a7b018f3e18e13089daf4fad90abe0d"
  },
  "kernelspec": {
   "display_name": "Python 3.9.7 ('base')",
   "language": "python",
   "name": "python3"
  },
  "language_info": {
   "codemirror_mode": {
    "name": "ipython",
    "version": 3
   },
   "file_extension": ".py",
   "mimetype": "text/x-python",
   "name": "python",
   "nbconvert_exporter": "python",
   "pygments_lexer": "ipython3",
   "version": "3.9.7"
  },
  "orig_nbformat": 4
 },
 "nbformat": 4,
 "nbformat_minor": 2
}
